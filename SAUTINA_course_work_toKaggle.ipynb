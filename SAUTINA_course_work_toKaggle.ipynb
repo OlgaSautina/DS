{
 "cells": [
  {
   "cell_type": "markdown",
   "id": "d4fae396",
   "metadata": {},
   "source": [
    "# Курсовая работа"
   ]
  },
  {
   "cell_type": "markdown",
   "id": "8d729060",
   "metadata": {},
   "source": [
    "### Задание для курсового проекта\n",
    "\n",
    "Участие в соревновании на Kaggle: https://www.kaggle.com/competitions/real-estate-price-prediction-moscow\n",
    "\n",
    "Задача в соревновании - предсказать цены на квартиры в датасете test.csv. Даны два датасета: train.csv (содержит признаки и цены на квартиры) и test.csv (только признаки).\n",
    "\n",
    "Метрика: R2 - коэффициент детерминации (sklearn.metrics.r2_score)\n",
    "\n",
    "### Описание датасета\n",
    "\n",
    "* __Id__ - идентификационный номер квартиры\n",
    "* __DistrictId__ - идентификационный номер района\n",
    "* __Rooms__ - количество комнат\n",
    "* __Square__ - площадь\n",
    "* __LifeSquare__ - жилая площадь\n",
    "* __KitchenSquare__ - площадь кухни\n",
    "* __Floor__ - этаж\n",
    "* __HouseFloor__ - количество этажей в доме\n",
    "* __HouseYear__ - год постройки дома\n",
    "* __Ecology_1, Ecology_2, Ecology_3__ - экологические показатели местности\n",
    "* __Social_1, Social_2, Social_3__ - социальные показатели местности\n",
    "* __Healthcare_1, Helthcare_2__ - показатели местности, связанные с охраной здоровья\n",
    "* __Shops_1, Shops_2__ - показатели, связанные с наличием магазинов, торговых центров\n",
    "* __Price__ - цена квартиры\n",
    "\n",
    "### Сдача проекта\n",
    "\n",
    "Сдать проект нужно в течение 7 дней после окончания последнего вебинара.\n",
    "\n",
    "Прислать в раздел Задания Урока 10 (\"Вебинар. Консультация по итоговому проекту\") ссылку на ноутбук в github или public kaggle notebook.\n",
    "\n",
    "Необходимо получить __R2 > 0.6__ на Private Leaderboard.\n",
    "\n",
    "Укажите свой ник на kaggle\n",
    "\n",
    "Примечание: Все файлы csv должны содержать названия полей (header - то есть \"шапку\"),разделитель - запятая. В файлах не должны содержаться индексы из датафрейма.\n",
    "\n",
    "### Рекомендации для файла с кодом (ipynb)\n",
    "\n",
    "Файл должен содержать заголовки и комментарии.\n",
    "\n",
    "Повторяющиеся операции лучше оформлять в виде функций.\n",
    "\n",
    "По возможности добавлять графики, описывающие данные (около 3-5).\n",
    "\n",
    "Добавлять только лучшую модель, то есть не включать в код все варианты решения проекта.\n",
    "\n",
    "Скрипт проекта должен отрабатывать от начала и до конца (от загрузки данных до выгрузки предсказаний).\n",
    "\n",
    "Весь проект должен быть в одном скрипте (файл ipynb).\n",
    "\n",
    "При использовании статистик (среднее, медиана и т.д.) в качестве признаков, лучше считать их на трейне, и потом на валидационных и тестовых данных не считать статистики заново, а брать их с трейна.\n",
    "\n",
    "Проект должен полностью отрабатывать за разумное время (не больше 10 минут), поэтому в финальный вариант лучше не включать GridSearch с перебором большого количества сочетаний параметров."
   ]
  },
  {
   "cell_type": "markdown",
   "id": "9c17d17e",
   "metadata": {},
   "source": [
    "## 1. EDA. Разведочный анализ данных"
   ]
  },
  {
   "cell_type": "markdown",
   "id": "5a6cbf03",
   "metadata": {},
   "source": [
    "### Подключение библиотек"
   ]
  },
  {
   "cell_type": "code",
   "execution_count": 1,
   "id": "fa581c5b",
   "metadata": {},
   "outputs": [],
   "source": [
    "import numpy as np\n",
    "import pandas as pd\n",
    "import random\n",
    "import os\n",
    "from sklearn.model_selection import train_test_split\n",
    "from sklearn.ensemble import RandomForestRegressor\n",
    "from sklearn.metrics import r2_score as r2\n",
    "from sklearn.model_selection import KFold, GridSearchCV\n",
    "\n",
    "from datetime import datetime\n",
    "\n",
    "import matplotlib\n",
    "import matplotlib.pyplot as plt\n",
    "import seaborn as sns\n",
    "%matplotlib inline"
   ]
  },
  {
   "cell_type": "code",
   "execution_count": 2,
   "id": "4b9684c3",
   "metadata": {},
   "outputs": [],
   "source": [
    "import warnings\n",
    "warnings.filterwarnings('ignore')"
   ]
  },
  {
   "cell_type": "code",
   "execution_count": 3,
   "id": "a1f7dae8",
   "metadata": {},
   "outputs": [],
   "source": [
    "# Функция, отрисовывает \"огурчик\" из предсказанных значений и реальных\n",
    "def evaluate_preds(train_true_values, train_pred_values, test_true_values, test_pred_values):\n",
    "    \n",
    "    # Посчитаем метрики r2_score для тренировочных и тестовых данных \n",
    "    r2_train = round(r2(train_true_values, train_pred_values), 3)\n",
    "    r2_test = round(r2(test_true_values, test_pred_values), 3)\n",
    "    \n",
    "    # Выведем их\n",
    "    print(\"Train R2:\\t\" + str(r2_train))\n",
    "    print(\"Test R2:\\t\" + str(r2_test))\n",
    "    \n",
    "    plt.figure(figsize=(18,10))\n",
    "    \n",
    "    # Первый график - посмотрим, насколько точно прошло предсказание на тренировочных данных\n",
    "    # Чем более плоский \"огурчик\", тем точнее.\n",
    "    # По оси х - предсказанные моделью значения, по оси у - истинные значения из датасета\n",
    "    plt.subplot(121)\n",
    "    sns.scatterplot(x=train_pred_values, y=train_true_values)\n",
    "    plt.xlabel('Predicted values')\n",
    "    plt.ylabel('True values')\n",
    "    plt.title('Train sample prediction')\n",
    "    \n",
    "    # Второй график - предсказание на валидационных данных\n",
    "    plt.subplot(122)\n",
    "    sns.scatterplot(x=test_pred_values, y=test_true_values)\n",
    "    plt.xlabel('Predicted values')\n",
    "    plt.ylabel('True values')\n",
    "    plt.title('Test sample prediction')\n",
    "\n",
    "    plt.show()"
   ]
  },
  {
   "cell_type": "markdown",
   "id": "7874527f",
   "metadata": {},
   "source": [
    "### Загрузка данных"
   ]
  },
  {
   "cell_type": "code",
   "execution_count": 4,
   "id": "1334835f",
   "metadata": {},
   "outputs": [],
   "source": [
    "# Путь к файлам с данными - в той же папке, что и выполняемый файл\n",
    "TRAIN_DATASET_PATH = 'train.csv'\n",
    "TEST_DATASET_PATH = 'test.csv'"
   ]
  },
  {
   "cell_type": "code",
   "execution_count": 5,
   "id": "5244c8a3",
   "metadata": {},
   "outputs": [],
   "source": [
    "# Загрузим тренировочные и тестовые данные в датасеты\n",
    "train_df = pd.read_csv(TRAIN_DATASET_PATH) # Данные для обучения модели\n",
    "test_df = pd.read_csv(TEST_DATASET_PATH) # Данные, для которых нужно предсказать целевую переменную"
   ]
  },
  {
   "cell_type": "code",
   "execution_count": 6,
   "id": "e7b7948e",
   "metadata": {},
   "outputs": [
    {
     "data": {
      "text/html": [
       "<div>\n",
       "<style scoped>\n",
       "    .dataframe tbody tr th:only-of-type {\n",
       "        vertical-align: middle;\n",
       "    }\n",
       "\n",
       "    .dataframe tbody tr th {\n",
       "        vertical-align: top;\n",
       "    }\n",
       "\n",
       "    .dataframe thead th {\n",
       "        text-align: right;\n",
       "    }\n",
       "</style>\n",
       "<table border=\"1\" class=\"dataframe\">\n",
       "  <thead>\n",
       "    <tr style=\"text-align: right;\">\n",
       "      <th></th>\n",
       "      <th>Id</th>\n",
       "      <th>DistrictId</th>\n",
       "      <th>Rooms</th>\n",
       "      <th>Square</th>\n",
       "      <th>LifeSquare</th>\n",
       "      <th>KitchenSquare</th>\n",
       "      <th>Floor</th>\n",
       "      <th>HouseFloor</th>\n",
       "      <th>HouseYear</th>\n",
       "      <th>Ecology_1</th>\n",
       "      <th>Ecology_2</th>\n",
       "      <th>Ecology_3</th>\n",
       "      <th>Social_1</th>\n",
       "      <th>Social_2</th>\n",
       "      <th>Social_3</th>\n",
       "      <th>Healthcare_1</th>\n",
       "      <th>Helthcare_2</th>\n",
       "      <th>Shops_1</th>\n",
       "      <th>Shops_2</th>\n",
       "      <th>Price</th>\n",
       "    </tr>\n",
       "  </thead>\n",
       "  <tbody>\n",
       "    <tr>\n",
       "      <th>0</th>\n",
       "      <td>11809</td>\n",
       "      <td>27</td>\n",
       "      <td>3.0</td>\n",
       "      <td>115.027311</td>\n",
       "      <td>NaN</td>\n",
       "      <td>10.0</td>\n",
       "      <td>4</td>\n",
       "      <td>10.0</td>\n",
       "      <td>2014</td>\n",
       "      <td>0.075424</td>\n",
       "      <td>B</td>\n",
       "      <td>B</td>\n",
       "      <td>11</td>\n",
       "      <td>3097</td>\n",
       "      <td>0</td>\n",
       "      <td>NaN</td>\n",
       "      <td>0</td>\n",
       "      <td>0</td>\n",
       "      <td>B</td>\n",
       "      <td>305018.871089</td>\n",
       "    </tr>\n",
       "    <tr>\n",
       "      <th>1</th>\n",
       "      <td>3013</td>\n",
       "      <td>22</td>\n",
       "      <td>1.0</td>\n",
       "      <td>39.832524</td>\n",
       "      <td>23.169223</td>\n",
       "      <td>8.0</td>\n",
       "      <td>7</td>\n",
       "      <td>8.0</td>\n",
       "      <td>1966</td>\n",
       "      <td>0.118537</td>\n",
       "      <td>B</td>\n",
       "      <td>B</td>\n",
       "      <td>30</td>\n",
       "      <td>6207</td>\n",
       "      <td>1</td>\n",
       "      <td>1183.0</td>\n",
       "      <td>1</td>\n",
       "      <td>0</td>\n",
       "      <td>B</td>\n",
       "      <td>177734.553407</td>\n",
       "    </tr>\n",
       "    <tr>\n",
       "      <th>2</th>\n",
       "      <td>8215</td>\n",
       "      <td>1</td>\n",
       "      <td>3.0</td>\n",
       "      <td>78.342215</td>\n",
       "      <td>47.671972</td>\n",
       "      <td>10.0</td>\n",
       "      <td>2</td>\n",
       "      <td>17.0</td>\n",
       "      <td>1988</td>\n",
       "      <td>0.025609</td>\n",
       "      <td>B</td>\n",
       "      <td>B</td>\n",
       "      <td>33</td>\n",
       "      <td>5261</td>\n",
       "      <td>0</td>\n",
       "      <td>240.0</td>\n",
       "      <td>3</td>\n",
       "      <td>1</td>\n",
       "      <td>B</td>\n",
       "      <td>282078.720850</td>\n",
       "    </tr>\n",
       "    <tr>\n",
       "      <th>3</th>\n",
       "      <td>2352</td>\n",
       "      <td>1</td>\n",
       "      <td>1.0</td>\n",
       "      <td>40.409907</td>\n",
       "      <td>NaN</td>\n",
       "      <td>1.0</td>\n",
       "      <td>10</td>\n",
       "      <td>22.0</td>\n",
       "      <td>1977</td>\n",
       "      <td>0.007122</td>\n",
       "      <td>B</td>\n",
       "      <td>B</td>\n",
       "      <td>1</td>\n",
       "      <td>264</td>\n",
       "      <td>0</td>\n",
       "      <td>NaN</td>\n",
       "      <td>0</td>\n",
       "      <td>1</td>\n",
       "      <td>B</td>\n",
       "      <td>168106.007630</td>\n",
       "    </tr>\n",
       "    <tr>\n",
       "      <th>4</th>\n",
       "      <td>13866</td>\n",
       "      <td>94</td>\n",
       "      <td>2.0</td>\n",
       "      <td>64.285067</td>\n",
       "      <td>38.562517</td>\n",
       "      <td>9.0</td>\n",
       "      <td>16</td>\n",
       "      <td>16.0</td>\n",
       "      <td>1972</td>\n",
       "      <td>0.282798</td>\n",
       "      <td>B</td>\n",
       "      <td>B</td>\n",
       "      <td>33</td>\n",
       "      <td>8667</td>\n",
       "      <td>2</td>\n",
       "      <td>NaN</td>\n",
       "      <td>0</td>\n",
       "      <td>6</td>\n",
       "      <td>B</td>\n",
       "      <td>343995.102962</td>\n",
       "    </tr>\n",
       "  </tbody>\n",
       "</table>\n",
       "</div>"
      ],
      "text/plain": [
       "      Id  DistrictId  Rooms      Square  LifeSquare  KitchenSquare  Floor  \\\n",
       "0  11809          27    3.0  115.027311         NaN           10.0      4   \n",
       "1   3013          22    1.0   39.832524   23.169223            8.0      7   \n",
       "2   8215           1    3.0   78.342215   47.671972           10.0      2   \n",
       "3   2352           1    1.0   40.409907         NaN            1.0     10   \n",
       "4  13866          94    2.0   64.285067   38.562517            9.0     16   \n",
       "\n",
       "   HouseFloor  HouseYear  Ecology_1 Ecology_2 Ecology_3  Social_1  Social_2  \\\n",
       "0        10.0       2014   0.075424         B         B        11      3097   \n",
       "1         8.0       1966   0.118537         B         B        30      6207   \n",
       "2        17.0       1988   0.025609         B         B        33      5261   \n",
       "3        22.0       1977   0.007122         B         B         1       264   \n",
       "4        16.0       1972   0.282798         B         B        33      8667   \n",
       "\n",
       "   Social_3  Healthcare_1  Helthcare_2  Shops_1 Shops_2          Price  \n",
       "0         0           NaN            0        0       B  305018.871089  \n",
       "1         1        1183.0            1        0       B  177734.553407  \n",
       "2         0         240.0            3        1       B  282078.720850  \n",
       "3         0           NaN            0        1       B  168106.007630  \n",
       "4         2           NaN            0        6       B  343995.102962  "
      ]
     },
     "execution_count": 6,
     "metadata": {},
     "output_type": "execute_result"
    }
   ],
   "source": [
    "train_df.head()"
   ]
  },
  {
   "cell_type": "code",
   "execution_count": 7,
   "id": "986d9f5f",
   "metadata": {},
   "outputs": [
    {
     "data": {
      "text/plain": [
       "Id                 int64\n",
       "DistrictId         int64\n",
       "Rooms            float64\n",
       "Square           float64\n",
       "LifeSquare       float64\n",
       "KitchenSquare    float64\n",
       "Floor              int64\n",
       "HouseFloor       float64\n",
       "HouseYear          int64\n",
       "Ecology_1        float64\n",
       "Ecology_2         object\n",
       "Ecology_3         object\n",
       "Social_1           int64\n",
       "Social_2           int64\n",
       "Social_3           int64\n",
       "Healthcare_1     float64\n",
       "Helthcare_2        int64\n",
       "Shops_1            int64\n",
       "Shops_2           object\n",
       "Price            float64\n",
       "dtype: object"
      ]
     },
     "execution_count": 7,
     "metadata": {},
     "output_type": "execute_result"
    }
   ],
   "source": [
    "# Посмотрим типы данных\n",
    "train_df.dtypes"
   ]
  },
  {
   "cell_type": "code",
   "execution_count": 8,
   "id": "7cd3cef9",
   "metadata": {},
   "outputs": [
    {
     "data": {
      "text/html": [
       "<div>\n",
       "<style scoped>\n",
       "    .dataframe tbody tr th:only-of-type {\n",
       "        vertical-align: middle;\n",
       "    }\n",
       "\n",
       "    .dataframe tbody tr th {\n",
       "        vertical-align: top;\n",
       "    }\n",
       "\n",
       "    .dataframe thead th {\n",
       "        text-align: right;\n",
       "    }\n",
       "</style>\n",
       "<table border=\"1\" class=\"dataframe\">\n",
       "  <thead>\n",
       "    <tr style=\"text-align: right;\">\n",
       "      <th></th>\n",
       "      <th>Id</th>\n",
       "      <th>DistrictId</th>\n",
       "      <th>Rooms</th>\n",
       "      <th>Square</th>\n",
       "      <th>LifeSquare</th>\n",
       "      <th>KitchenSquare</th>\n",
       "      <th>Floor</th>\n",
       "      <th>HouseFloor</th>\n",
       "      <th>HouseYear</th>\n",
       "      <th>Ecology_1</th>\n",
       "      <th>Social_1</th>\n",
       "      <th>Social_2</th>\n",
       "      <th>Social_3</th>\n",
       "      <th>Healthcare_1</th>\n",
       "      <th>Helthcare_2</th>\n",
       "      <th>Shops_1</th>\n",
       "      <th>Price</th>\n",
       "    </tr>\n",
       "  </thead>\n",
       "  <tbody>\n",
       "    <tr>\n",
       "      <th>count</th>\n",
       "      <td>10000.00000</td>\n",
       "      <td>10000.000000</td>\n",
       "      <td>10000.000000</td>\n",
       "      <td>10000.000000</td>\n",
       "      <td>7887.000000</td>\n",
       "      <td>10000.000000</td>\n",
       "      <td>10000.000000</td>\n",
       "      <td>10000.000000</td>\n",
       "      <td>1.000000e+04</td>\n",
       "      <td>10000.000000</td>\n",
       "      <td>10000.000000</td>\n",
       "      <td>10000.000000</td>\n",
       "      <td>10000.000000</td>\n",
       "      <td>5202.000000</td>\n",
       "      <td>10000.000000</td>\n",
       "      <td>10000.000000</td>\n",
       "      <td>10000.000000</td>\n",
       "    </tr>\n",
       "    <tr>\n",
       "      <th>mean</th>\n",
       "      <td>8383.40770</td>\n",
       "      <td>50.400800</td>\n",
       "      <td>1.890500</td>\n",
       "      <td>56.315775</td>\n",
       "      <td>37.199645</td>\n",
       "      <td>6.273300</td>\n",
       "      <td>8.526700</td>\n",
       "      <td>12.609400</td>\n",
       "      <td>3.990166e+03</td>\n",
       "      <td>0.118858</td>\n",
       "      <td>24.687000</td>\n",
       "      <td>5352.157400</td>\n",
       "      <td>8.039200</td>\n",
       "      <td>1142.904460</td>\n",
       "      <td>1.319500</td>\n",
       "      <td>4.231300</td>\n",
       "      <td>214138.857399</td>\n",
       "    </tr>\n",
       "    <tr>\n",
       "      <th>std</th>\n",
       "      <td>4859.01902</td>\n",
       "      <td>43.587592</td>\n",
       "      <td>0.839512</td>\n",
       "      <td>21.058732</td>\n",
       "      <td>86.241209</td>\n",
       "      <td>28.560917</td>\n",
       "      <td>5.241148</td>\n",
       "      <td>6.775974</td>\n",
       "      <td>2.005003e+05</td>\n",
       "      <td>0.119025</td>\n",
       "      <td>17.532614</td>\n",
       "      <td>4006.799803</td>\n",
       "      <td>23.831875</td>\n",
       "      <td>1021.517264</td>\n",
       "      <td>1.493601</td>\n",
       "      <td>4.806341</td>\n",
       "      <td>92872.293865</td>\n",
       "    </tr>\n",
       "    <tr>\n",
       "      <th>min</th>\n",
       "      <td>0.00000</td>\n",
       "      <td>0.000000</td>\n",
       "      <td>0.000000</td>\n",
       "      <td>1.136859</td>\n",
       "      <td>0.370619</td>\n",
       "      <td>0.000000</td>\n",
       "      <td>1.000000</td>\n",
       "      <td>0.000000</td>\n",
       "      <td>1.910000e+03</td>\n",
       "      <td>0.000000</td>\n",
       "      <td>0.000000</td>\n",
       "      <td>168.000000</td>\n",
       "      <td>0.000000</td>\n",
       "      <td>0.000000</td>\n",
       "      <td>0.000000</td>\n",
       "      <td>0.000000</td>\n",
       "      <td>59174.778028</td>\n",
       "    </tr>\n",
       "    <tr>\n",
       "      <th>25%</th>\n",
       "      <td>4169.50000</td>\n",
       "      <td>20.000000</td>\n",
       "      <td>1.000000</td>\n",
       "      <td>41.774881</td>\n",
       "      <td>22.769832</td>\n",
       "      <td>1.000000</td>\n",
       "      <td>4.000000</td>\n",
       "      <td>9.000000</td>\n",
       "      <td>1.974000e+03</td>\n",
       "      <td>0.017647</td>\n",
       "      <td>6.000000</td>\n",
       "      <td>1564.000000</td>\n",
       "      <td>0.000000</td>\n",
       "      <td>350.000000</td>\n",
       "      <td>0.000000</td>\n",
       "      <td>1.000000</td>\n",
       "      <td>153872.633942</td>\n",
       "    </tr>\n",
       "    <tr>\n",
       "      <th>50%</th>\n",
       "      <td>8394.50000</td>\n",
       "      <td>36.000000</td>\n",
       "      <td>2.000000</td>\n",
       "      <td>52.513310</td>\n",
       "      <td>32.781260</td>\n",
       "      <td>6.000000</td>\n",
       "      <td>7.000000</td>\n",
       "      <td>13.000000</td>\n",
       "      <td>1.977000e+03</td>\n",
       "      <td>0.075424</td>\n",
       "      <td>25.000000</td>\n",
       "      <td>5285.000000</td>\n",
       "      <td>2.000000</td>\n",
       "      <td>900.000000</td>\n",
       "      <td>1.000000</td>\n",
       "      <td>3.000000</td>\n",
       "      <td>192269.644879</td>\n",
       "    </tr>\n",
       "    <tr>\n",
       "      <th>75%</th>\n",
       "      <td>12592.50000</td>\n",
       "      <td>75.000000</td>\n",
       "      <td>2.000000</td>\n",
       "      <td>65.900625</td>\n",
       "      <td>45.128803</td>\n",
       "      <td>9.000000</td>\n",
       "      <td>12.000000</td>\n",
       "      <td>17.000000</td>\n",
       "      <td>2.001000e+03</td>\n",
       "      <td>0.195781</td>\n",
       "      <td>36.000000</td>\n",
       "      <td>7227.000000</td>\n",
       "      <td>5.000000</td>\n",
       "      <td>1548.000000</td>\n",
       "      <td>2.000000</td>\n",
       "      <td>6.000000</td>\n",
       "      <td>249135.462171</td>\n",
       "    </tr>\n",
       "    <tr>\n",
       "      <th>max</th>\n",
       "      <td>16798.00000</td>\n",
       "      <td>209.000000</td>\n",
       "      <td>19.000000</td>\n",
       "      <td>641.065193</td>\n",
       "      <td>7480.592129</td>\n",
       "      <td>2014.000000</td>\n",
       "      <td>42.000000</td>\n",
       "      <td>117.000000</td>\n",
       "      <td>2.005201e+07</td>\n",
       "      <td>0.521867</td>\n",
       "      <td>74.000000</td>\n",
       "      <td>19083.000000</td>\n",
       "      <td>141.000000</td>\n",
       "      <td>4849.000000</td>\n",
       "      <td>6.000000</td>\n",
       "      <td>23.000000</td>\n",
       "      <td>633233.466570</td>\n",
       "    </tr>\n",
       "  </tbody>\n",
       "</table>\n",
       "</div>"
      ],
      "text/plain": [
       "                Id    DistrictId         Rooms        Square   LifeSquare  \\\n",
       "count  10000.00000  10000.000000  10000.000000  10000.000000  7887.000000   \n",
       "mean    8383.40770     50.400800      1.890500     56.315775    37.199645   \n",
       "std     4859.01902     43.587592      0.839512     21.058732    86.241209   \n",
       "min        0.00000      0.000000      0.000000      1.136859     0.370619   \n",
       "25%     4169.50000     20.000000      1.000000     41.774881    22.769832   \n",
       "50%     8394.50000     36.000000      2.000000     52.513310    32.781260   \n",
       "75%    12592.50000     75.000000      2.000000     65.900625    45.128803   \n",
       "max    16798.00000    209.000000     19.000000    641.065193  7480.592129   \n",
       "\n",
       "       KitchenSquare         Floor    HouseFloor     HouseYear     Ecology_1  \\\n",
       "count   10000.000000  10000.000000  10000.000000  1.000000e+04  10000.000000   \n",
       "mean        6.273300      8.526700     12.609400  3.990166e+03      0.118858   \n",
       "std        28.560917      5.241148      6.775974  2.005003e+05      0.119025   \n",
       "min         0.000000      1.000000      0.000000  1.910000e+03      0.000000   \n",
       "25%         1.000000      4.000000      9.000000  1.974000e+03      0.017647   \n",
       "50%         6.000000      7.000000     13.000000  1.977000e+03      0.075424   \n",
       "75%         9.000000     12.000000     17.000000  2.001000e+03      0.195781   \n",
       "max      2014.000000     42.000000    117.000000  2.005201e+07      0.521867   \n",
       "\n",
       "           Social_1      Social_2      Social_3  Healthcare_1   Helthcare_2  \\\n",
       "count  10000.000000  10000.000000  10000.000000   5202.000000  10000.000000   \n",
       "mean      24.687000   5352.157400      8.039200   1142.904460      1.319500   \n",
       "std       17.532614   4006.799803     23.831875   1021.517264      1.493601   \n",
       "min        0.000000    168.000000      0.000000      0.000000      0.000000   \n",
       "25%        6.000000   1564.000000      0.000000    350.000000      0.000000   \n",
       "50%       25.000000   5285.000000      2.000000    900.000000      1.000000   \n",
       "75%       36.000000   7227.000000      5.000000   1548.000000      2.000000   \n",
       "max       74.000000  19083.000000    141.000000   4849.000000      6.000000   \n",
       "\n",
       "            Shops_1          Price  \n",
       "count  10000.000000   10000.000000  \n",
       "mean       4.231300  214138.857399  \n",
       "std        4.806341   92872.293865  \n",
       "min        0.000000   59174.778028  \n",
       "25%        1.000000  153872.633942  \n",
       "50%        3.000000  192269.644879  \n",
       "75%        6.000000  249135.462171  \n",
       "max       23.000000  633233.466570  "
      ]
     },
     "execution_count": 8,
     "metadata": {},
     "output_type": "execute_result"
    }
   ],
   "source": [
    "train_df.describe()"
   ]
  },
  {
   "cell_type": "code",
   "execution_count": 9,
   "id": "eb6cc619",
   "metadata": {},
   "outputs": [
    {
     "data": {
      "text/plain": [
       "(10000, 20)"
      ]
     },
     "execution_count": 9,
     "metadata": {},
     "output_type": "execute_result"
    }
   ],
   "source": [
    "train_df.shape"
   ]
  },
  {
   "cell_type": "markdown",
   "id": "a93cba7c",
   "metadata": {},
   "source": [
    "**Выводы по датасету train:**\n",
    "\n",
    "* Содержит 10000 строк, 19 признаков и 1 целевую переменную.\n",
    "* признаки Ecology_2, Ecology_3, Shops_2 - категориальные, остальные - числовые. \n",
    "* признаки LifeSquare и Healthcare_1 содержат пропущенные значения, необходимо их заполнить."
   ]
  },
  {
   "cell_type": "code",
   "execution_count": 10,
   "id": "1b076f56",
   "metadata": {},
   "outputs": [
    {
     "data": {
      "text/html": [
       "<div>\n",
       "<style scoped>\n",
       "    .dataframe tbody tr th:only-of-type {\n",
       "        vertical-align: middle;\n",
       "    }\n",
       "\n",
       "    .dataframe tbody tr th {\n",
       "        vertical-align: top;\n",
       "    }\n",
       "\n",
       "    .dataframe thead th {\n",
       "        text-align: right;\n",
       "    }\n",
       "</style>\n",
       "<table border=\"1\" class=\"dataframe\">\n",
       "  <thead>\n",
       "    <tr style=\"text-align: right;\">\n",
       "      <th></th>\n",
       "      <th>Id</th>\n",
       "      <th>DistrictId</th>\n",
       "      <th>Rooms</th>\n",
       "      <th>Square</th>\n",
       "      <th>LifeSquare</th>\n",
       "      <th>KitchenSquare</th>\n",
       "      <th>Floor</th>\n",
       "      <th>HouseFloor</th>\n",
       "      <th>HouseYear</th>\n",
       "      <th>Ecology_1</th>\n",
       "      <th>Ecology_2</th>\n",
       "      <th>Ecology_3</th>\n",
       "      <th>Social_1</th>\n",
       "      <th>Social_2</th>\n",
       "      <th>Social_3</th>\n",
       "      <th>Healthcare_1</th>\n",
       "      <th>Helthcare_2</th>\n",
       "      <th>Shops_1</th>\n",
       "      <th>Shops_2</th>\n",
       "    </tr>\n",
       "  </thead>\n",
       "  <tbody>\n",
       "    <tr>\n",
       "      <th>0</th>\n",
       "      <td>4567</td>\n",
       "      <td>44</td>\n",
       "      <td>1.0</td>\n",
       "      <td>36.847630</td>\n",
       "      <td>19.094182</td>\n",
       "      <td>5.0</td>\n",
       "      <td>5</td>\n",
       "      <td>9.0</td>\n",
       "      <td>1970</td>\n",
       "      <td>0.036122</td>\n",
       "      <td>B</td>\n",
       "      <td>B</td>\n",
       "      <td>24</td>\n",
       "      <td>4378</td>\n",
       "      <td>0</td>\n",
       "      <td>1036.0</td>\n",
       "      <td>1</td>\n",
       "      <td>1</td>\n",
       "      <td>B</td>\n",
       "    </tr>\n",
       "    <tr>\n",
       "      <th>1</th>\n",
       "      <td>5925</td>\n",
       "      <td>62</td>\n",
       "      <td>1.0</td>\n",
       "      <td>42.493907</td>\n",
       "      <td>42.568133</td>\n",
       "      <td>10.0</td>\n",
       "      <td>7</td>\n",
       "      <td>17.0</td>\n",
       "      <td>2017</td>\n",
       "      <td>0.072158</td>\n",
       "      <td>B</td>\n",
       "      <td>B</td>\n",
       "      <td>2</td>\n",
       "      <td>629</td>\n",
       "      <td>1</td>\n",
       "      <td>NaN</td>\n",
       "      <td>0</td>\n",
       "      <td>0</td>\n",
       "      <td>A</td>\n",
       "    </tr>\n",
       "    <tr>\n",
       "      <th>2</th>\n",
       "      <td>960</td>\n",
       "      <td>27</td>\n",
       "      <td>2.0</td>\n",
       "      <td>59.463678</td>\n",
       "      <td>NaN</td>\n",
       "      <td>9.0</td>\n",
       "      <td>19</td>\n",
       "      <td>19.0</td>\n",
       "      <td>1977</td>\n",
       "      <td>0.211401</td>\n",
       "      <td>B</td>\n",
       "      <td>B</td>\n",
       "      <td>9</td>\n",
       "      <td>1892</td>\n",
       "      <td>0</td>\n",
       "      <td>NaN</td>\n",
       "      <td>0</td>\n",
       "      <td>1</td>\n",
       "      <td>B</td>\n",
       "    </tr>\n",
       "    <tr>\n",
       "      <th>3</th>\n",
       "      <td>3848</td>\n",
       "      <td>23</td>\n",
       "      <td>3.0</td>\n",
       "      <td>49.646030</td>\n",
       "      <td>33.893825</td>\n",
       "      <td>6.0</td>\n",
       "      <td>2</td>\n",
       "      <td>2.0</td>\n",
       "      <td>1965</td>\n",
       "      <td>0.014073</td>\n",
       "      <td>B</td>\n",
       "      <td>B</td>\n",
       "      <td>2</td>\n",
       "      <td>475</td>\n",
       "      <td>0</td>\n",
       "      <td>NaN</td>\n",
       "      <td>0</td>\n",
       "      <td>0</td>\n",
       "      <td>B</td>\n",
       "    </tr>\n",
       "    <tr>\n",
       "      <th>4</th>\n",
       "      <td>746</td>\n",
       "      <td>74</td>\n",
       "      <td>1.0</td>\n",
       "      <td>53.837056</td>\n",
       "      <td>NaN</td>\n",
       "      <td>1.0</td>\n",
       "      <td>8</td>\n",
       "      <td>17.0</td>\n",
       "      <td>1977</td>\n",
       "      <td>0.309479</td>\n",
       "      <td>B</td>\n",
       "      <td>B</td>\n",
       "      <td>35</td>\n",
       "      <td>7715</td>\n",
       "      <td>4</td>\n",
       "      <td>990.0</td>\n",
       "      <td>0</td>\n",
       "      <td>6</td>\n",
       "      <td>B</td>\n",
       "    </tr>\n",
       "  </tbody>\n",
       "</table>\n",
       "</div>"
      ],
      "text/plain": [
       "     Id  DistrictId  Rooms     Square  LifeSquare  KitchenSquare  Floor  \\\n",
       "0  4567          44    1.0  36.847630   19.094182            5.0      5   \n",
       "1  5925          62    1.0  42.493907   42.568133           10.0      7   \n",
       "2   960          27    2.0  59.463678         NaN            9.0     19   \n",
       "3  3848          23    3.0  49.646030   33.893825            6.0      2   \n",
       "4   746          74    1.0  53.837056         NaN            1.0      8   \n",
       "\n",
       "   HouseFloor  HouseYear  Ecology_1 Ecology_2 Ecology_3  Social_1  Social_2  \\\n",
       "0         9.0       1970   0.036122         B         B        24      4378   \n",
       "1        17.0       2017   0.072158         B         B         2       629   \n",
       "2        19.0       1977   0.211401         B         B         9      1892   \n",
       "3         2.0       1965   0.014073         B         B         2       475   \n",
       "4        17.0       1977   0.309479         B         B        35      7715   \n",
       "\n",
       "   Social_3  Healthcare_1  Helthcare_2  Shops_1 Shops_2  \n",
       "0         0        1036.0            1        1       B  \n",
       "1         1           NaN            0        0       A  \n",
       "2         0           NaN            0        1       B  \n",
       "3         0           NaN            0        0       B  \n",
       "4         4         990.0            0        6       B  "
      ]
     },
     "execution_count": 10,
     "metadata": {},
     "output_type": "execute_result"
    }
   ],
   "source": [
    "# аналогично посмотрим данные в тестовом датасете\n",
    "test_df.head()"
   ]
  },
  {
   "cell_type": "code",
   "execution_count": 11,
   "id": "dcccd2f5",
   "metadata": {},
   "outputs": [
    {
     "data": {
      "text/plain": [
       "Id                 int64\n",
       "DistrictId         int64\n",
       "Rooms            float64\n",
       "Square           float64\n",
       "LifeSquare       float64\n",
       "KitchenSquare    float64\n",
       "Floor              int64\n",
       "HouseFloor       float64\n",
       "HouseYear          int64\n",
       "Ecology_1        float64\n",
       "Ecology_2         object\n",
       "Ecology_3         object\n",
       "Social_1           int64\n",
       "Social_2           int64\n",
       "Social_3           int64\n",
       "Healthcare_1     float64\n",
       "Helthcare_2        int64\n",
       "Shops_1            int64\n",
       "Shops_2           object\n",
       "dtype: object"
      ]
     },
     "execution_count": 11,
     "metadata": {},
     "output_type": "execute_result"
    }
   ],
   "source": [
    "test_df.dtypes"
   ]
  },
  {
   "cell_type": "code",
   "execution_count": 12,
   "id": "1d6ac11a",
   "metadata": {},
   "outputs": [
    {
     "data": {
      "text/html": [
       "<div>\n",
       "<style scoped>\n",
       "    .dataframe tbody tr th:only-of-type {\n",
       "        vertical-align: middle;\n",
       "    }\n",
       "\n",
       "    .dataframe tbody tr th {\n",
       "        vertical-align: top;\n",
       "    }\n",
       "\n",
       "    .dataframe thead th {\n",
       "        text-align: right;\n",
       "    }\n",
       "</style>\n",
       "<table border=\"1\" class=\"dataframe\">\n",
       "  <thead>\n",
       "    <tr style=\"text-align: right;\">\n",
       "      <th></th>\n",
       "      <th>Id</th>\n",
       "      <th>DistrictId</th>\n",
       "      <th>Rooms</th>\n",
       "      <th>Square</th>\n",
       "      <th>LifeSquare</th>\n",
       "      <th>KitchenSquare</th>\n",
       "      <th>Floor</th>\n",
       "      <th>HouseFloor</th>\n",
       "      <th>HouseYear</th>\n",
       "      <th>Ecology_1</th>\n",
       "      <th>Social_1</th>\n",
       "      <th>Social_2</th>\n",
       "      <th>Social_3</th>\n",
       "      <th>Healthcare_1</th>\n",
       "      <th>Helthcare_2</th>\n",
       "      <th>Shops_1</th>\n",
       "    </tr>\n",
       "  </thead>\n",
       "  <tbody>\n",
       "    <tr>\n",
       "      <th>count</th>\n",
       "      <td>5000.000000</td>\n",
       "      <td>5000.000000</td>\n",
       "      <td>5000.000000</td>\n",
       "      <td>5000.000000</td>\n",
       "      <td>3959.000000</td>\n",
       "      <td>5000.000000</td>\n",
       "      <td>5000.000000</td>\n",
       "      <td>5000.000000</td>\n",
       "      <td>5000.000000</td>\n",
       "      <td>5000.000000</td>\n",
       "      <td>5000.000000</td>\n",
       "      <td>5000.000000</td>\n",
       "      <td>5000.000000</td>\n",
       "      <td>2623.000000</td>\n",
       "      <td>5000.00000</td>\n",
       "      <td>5000.000000</td>\n",
       "    </tr>\n",
       "    <tr>\n",
       "      <th>mean</th>\n",
       "      <td>8412.595400</td>\n",
       "      <td>51.279200</td>\n",
       "      <td>1.910000</td>\n",
       "      <td>56.449500</td>\n",
       "      <td>36.158810</td>\n",
       "      <td>5.976800</td>\n",
       "      <td>8.632000</td>\n",
       "      <td>12.601000</td>\n",
       "      <td>1984.392600</td>\n",
       "      <td>0.119874</td>\n",
       "      <td>24.933800</td>\n",
       "      <td>5406.900000</td>\n",
       "      <td>8.262600</td>\n",
       "      <td>1146.657263</td>\n",
       "      <td>1.31940</td>\n",
       "      <td>4.242800</td>\n",
       "    </tr>\n",
       "    <tr>\n",
       "      <th>std</th>\n",
       "      <td>4832.674037</td>\n",
       "      <td>44.179466</td>\n",
       "      <td>0.838594</td>\n",
       "      <td>19.092787</td>\n",
       "      <td>17.825287</td>\n",
       "      <td>9.950018</td>\n",
       "      <td>5.483228</td>\n",
       "      <td>6.789213</td>\n",
       "      <td>18.573149</td>\n",
       "      <td>0.120070</td>\n",
       "      <td>17.532202</td>\n",
       "      <td>4026.614773</td>\n",
       "      <td>23.863762</td>\n",
       "      <td>1044.744231</td>\n",
       "      <td>1.47994</td>\n",
       "      <td>4.777365</td>\n",
       "    </tr>\n",
       "    <tr>\n",
       "      <th>min</th>\n",
       "      <td>1.000000</td>\n",
       "      <td>0.000000</td>\n",
       "      <td>0.000000</td>\n",
       "      <td>1.378543</td>\n",
       "      <td>0.333490</td>\n",
       "      <td>0.000000</td>\n",
       "      <td>1.000000</td>\n",
       "      <td>0.000000</td>\n",
       "      <td>1908.000000</td>\n",
       "      <td>0.000000</td>\n",
       "      <td>0.000000</td>\n",
       "      <td>168.000000</td>\n",
       "      <td>0.000000</td>\n",
       "      <td>0.000000</td>\n",
       "      <td>0.00000</td>\n",
       "      <td>0.000000</td>\n",
       "    </tr>\n",
       "    <tr>\n",
       "      <th>25%</th>\n",
       "      <td>4221.750000</td>\n",
       "      <td>21.000000</td>\n",
       "      <td>1.000000</td>\n",
       "      <td>41.906231</td>\n",
       "      <td>23.092026</td>\n",
       "      <td>1.000000</td>\n",
       "      <td>4.000000</td>\n",
       "      <td>9.000000</td>\n",
       "      <td>1973.000000</td>\n",
       "      <td>0.019509</td>\n",
       "      <td>6.000000</td>\n",
       "      <td>1564.000000</td>\n",
       "      <td>0.000000</td>\n",
       "      <td>325.000000</td>\n",
       "      <td>0.00000</td>\n",
       "      <td>1.000000</td>\n",
       "    </tr>\n",
       "    <tr>\n",
       "      <th>50%</th>\n",
       "      <td>8320.500000</td>\n",
       "      <td>37.000000</td>\n",
       "      <td>2.000000</td>\n",
       "      <td>52.921340</td>\n",
       "      <td>32.925087</td>\n",
       "      <td>6.000000</td>\n",
       "      <td>7.000000</td>\n",
       "      <td>12.000000</td>\n",
       "      <td>1977.000000</td>\n",
       "      <td>0.072158</td>\n",
       "      <td>25.000000</td>\n",
       "      <td>5285.000000</td>\n",
       "      <td>2.000000</td>\n",
       "      <td>900.000000</td>\n",
       "      <td>1.00000</td>\n",
       "      <td>3.000000</td>\n",
       "    </tr>\n",
       "    <tr>\n",
       "      <th>75%</th>\n",
       "      <td>12598.250000</td>\n",
       "      <td>77.000000</td>\n",
       "      <td>2.000000</td>\n",
       "      <td>66.285129</td>\n",
       "      <td>45.174091</td>\n",
       "      <td>9.000000</td>\n",
       "      <td>12.000000</td>\n",
       "      <td>17.000000</td>\n",
       "      <td>2000.000000</td>\n",
       "      <td>0.195781</td>\n",
       "      <td>36.000000</td>\n",
       "      <td>7287.000000</td>\n",
       "      <td>5.000000</td>\n",
       "      <td>1548.000000</td>\n",
       "      <td>2.00000</td>\n",
       "      <td>6.000000</td>\n",
       "    </tr>\n",
       "    <tr>\n",
       "      <th>max</th>\n",
       "      <td>16795.000000</td>\n",
       "      <td>212.000000</td>\n",
       "      <td>17.000000</td>\n",
       "      <td>223.453689</td>\n",
       "      <td>303.071094</td>\n",
       "      <td>620.000000</td>\n",
       "      <td>78.000000</td>\n",
       "      <td>99.000000</td>\n",
       "      <td>2020.000000</td>\n",
       "      <td>0.521867</td>\n",
       "      <td>74.000000</td>\n",
       "      <td>19083.000000</td>\n",
       "      <td>141.000000</td>\n",
       "      <td>4849.000000</td>\n",
       "      <td>6.00000</td>\n",
       "      <td>23.000000</td>\n",
       "    </tr>\n",
       "  </tbody>\n",
       "</table>\n",
       "</div>"
      ],
      "text/plain": [
       "                 Id   DistrictId        Rooms       Square   LifeSquare  \\\n",
       "count   5000.000000  5000.000000  5000.000000  5000.000000  3959.000000   \n",
       "mean    8412.595400    51.279200     1.910000    56.449500    36.158810   \n",
       "std     4832.674037    44.179466     0.838594    19.092787    17.825287   \n",
       "min        1.000000     0.000000     0.000000     1.378543     0.333490   \n",
       "25%     4221.750000    21.000000     1.000000    41.906231    23.092026   \n",
       "50%     8320.500000    37.000000     2.000000    52.921340    32.925087   \n",
       "75%    12598.250000    77.000000     2.000000    66.285129    45.174091   \n",
       "max    16795.000000   212.000000    17.000000   223.453689   303.071094   \n",
       "\n",
       "       KitchenSquare        Floor   HouseFloor    HouseYear    Ecology_1  \\\n",
       "count    5000.000000  5000.000000  5000.000000  5000.000000  5000.000000   \n",
       "mean        5.976800     8.632000    12.601000  1984.392600     0.119874   \n",
       "std         9.950018     5.483228     6.789213    18.573149     0.120070   \n",
       "min         0.000000     1.000000     0.000000  1908.000000     0.000000   \n",
       "25%         1.000000     4.000000     9.000000  1973.000000     0.019509   \n",
       "50%         6.000000     7.000000    12.000000  1977.000000     0.072158   \n",
       "75%         9.000000    12.000000    17.000000  2000.000000     0.195781   \n",
       "max       620.000000    78.000000    99.000000  2020.000000     0.521867   \n",
       "\n",
       "          Social_1      Social_2     Social_3  Healthcare_1  Helthcare_2  \\\n",
       "count  5000.000000   5000.000000  5000.000000   2623.000000   5000.00000   \n",
       "mean     24.933800   5406.900000     8.262600   1146.657263      1.31940   \n",
       "std      17.532202   4026.614773    23.863762   1044.744231      1.47994   \n",
       "min       0.000000    168.000000     0.000000      0.000000      0.00000   \n",
       "25%       6.000000   1564.000000     0.000000    325.000000      0.00000   \n",
       "50%      25.000000   5285.000000     2.000000    900.000000      1.00000   \n",
       "75%      36.000000   7287.000000     5.000000   1548.000000      2.00000   \n",
       "max      74.000000  19083.000000   141.000000   4849.000000      6.00000   \n",
       "\n",
       "           Shops_1  \n",
       "count  5000.000000  \n",
       "mean      4.242800  \n",
       "std       4.777365  \n",
       "min       0.000000  \n",
       "25%       1.000000  \n",
       "50%       3.000000  \n",
       "75%       6.000000  \n",
       "max      23.000000  "
      ]
     },
     "execution_count": 12,
     "metadata": {},
     "output_type": "execute_result"
    }
   ],
   "source": [
    "test_df.describe()"
   ]
  },
  {
   "cell_type": "code",
   "execution_count": 13,
   "id": "13217037",
   "metadata": {},
   "outputs": [
    {
     "data": {
      "text/plain": [
       "(5000, 19)"
      ]
     },
     "execution_count": 13,
     "metadata": {},
     "output_type": "execute_result"
    }
   ],
   "source": [
    "test_df.shape"
   ]
  },
  {
   "cell_type": "markdown",
   "id": "4492b1d9",
   "metadata": {},
   "source": [
    "#### Выводы по датасету test:\n",
    "\n",
    "* Содержит 5000 строк и 19 признаков. \n",
    "* Признаки Ecology_2, Ecology_3, Shops_2 - категориальные, остальные - числовые. \n",
    "* Признаки LifeSquare и Healthcare_1 также содержат пропущенные значения, необходимо их заполнить."
   ]
  },
  {
   "cell_type": "markdown",
   "id": "8b00e034",
   "metadata": {},
   "source": [
    "#### Целевая переменная Price"
   ]
  },
  {
   "cell_type": "code",
   "execution_count": 14,
   "id": "cdc66b25",
   "metadata": {},
   "outputs": [],
   "source": [
    "# Создадим функцию для отрисовки гистограммы распределения значений в признаке column_name\n",
    "def hist_value_counts(df, column_name, bins_count):\n",
    "    plt.figure(figsize = (10, 6), dpi=80)\n",
    "   \n",
    "    df[column_name].hist(bins=bins_count)\n",
    "    plt.ylabel('Count')\n",
    "    plt.xlabel(column_name)\n",
    "\n",
    "    plt.title('Распределение значений переменной ' + column_name)\n",
    "    plt.show()"
   ]
  },
  {
   "cell_type": "code",
   "execution_count": 15,
   "id": "5492b46d",
   "metadata": {},
   "outputs": [
    {
     "data": {
      "image/png": "[encoded data removed]",
      "text/plain": [
       "<Figure size 800x480 with 1 Axes>"
      ]
     },
     "metadata": {
      "needs_background": "light"
     },
     "output_type": "display_data"
    }
   ],
   "source": [
    "# посмотрим распределение целевой переменной\n",
    "hist_value_counts(train_df,'Price', 30)"
   ]
  },
  {
   "cell_type": "markdown",
   "id": "14446926",
   "metadata": {},
   "source": [
    "По графику видно, что основная часть значений приходится примерно на промежуток 120 000 - 250 000."
   ]
  },
  {
   "cell_type": "markdown",
   "id": "87d789af",
   "metadata": {},
   "source": [
    "### Категориальные переменные"
   ]
  },
  {
   "cell_type": "code",
   "execution_count": 17,
   "id": "b76226f9",
   "metadata": {},
   "outputs": [
    {
     "data": {
      "text/plain": [
       "['Ecology_2', 'Ecology_3', 'Shops_2']"
      ]
     },
     "execution_count": 17,
     "metadata": {},
     "output_type": "execute_result"
    }
   ],
   "source": [
    "# Выберем все признаки типа object, далее рассмотрим их более детально\n",
    "category_columns = train_df.select_dtypes(include='object').columns.tolist()\n",
    "category_columns"
   ]
  },
  {
   "cell_type": "markdown",
   "id": "22160679",
   "metadata": {},
   "source": [
    "#### Id - идентификационый номер квартиры"
   ]
  },
  {
   "cell_type": "code",
   "execution_count": 18,
   "id": "bce51310",
   "metadata": {},
   "outputs": [
    {
     "data": {
      "text/plain": [
       "11809    1\n",
       "2906     1\n",
       "5039     1\n",
       "6213     1\n",
       "12319    1\n",
       "        ..\n",
       "2351     1\n",
       "13054    1\n",
       "1512     1\n",
       "11813    1\n",
       "7202     1\n",
       "Name: Id, Length: 10000, dtype: int64"
      ]
     },
     "execution_count": 18,
     "metadata": {},
     "output_type": "execute_result"
    }
   ],
   "source": [
    "train_df['Id'].value_counts()"
   ]
  },
  {
   "cell_type": "markdown",
   "id": "57893c6a",
   "metadata": {},
   "source": [
    "Все Id уникальны, т.е. ошибок нет. Вообще, это поле можно использовать как индекс."
   ]
  },
  {
   "cell_type": "markdown",
   "id": "6c02368a",
   "metadata": {},
   "source": [
    "#### DistrictId - номер района"
   ]
  },
  {
   "cell_type": "code",
   "execution_count": 19,
   "id": "d778cca9",
   "metadata": {},
   "outputs": [
    {
     "data": {
      "text/plain": [
       "27     851\n",
       "1      652\n",
       "23     565\n",
       "6      511\n",
       "9      294\n",
       "      ... \n",
       "199      1\n",
       "117      1\n",
       "207      1\n",
       "209      1\n",
       "174      1\n",
       "Name: DistrictId, Length: 205, dtype: int64"
      ]
     },
     "execution_count": 19,
     "metadata": {},
     "output_type": "execute_result"
    }
   ],
   "source": [
    "train_df['DistrictId'].value_counts()"
   ]
  },
  {
   "cell_type": "code",
   "execution_count": 20,
   "id": "5a28e3b2",
   "metadata": {},
   "outputs": [
    {
     "data": {
      "text/plain": [
       "count    10000.000000\n",
       "mean        50.400800\n",
       "std         43.587592\n",
       "min          0.000000\n",
       "25%         20.000000\n",
       "50%         36.000000\n",
       "75%         75.000000\n",
       "max        209.000000\n",
       "Name: DistrictId, dtype: float64"
      ]
     },
     "execution_count": 20,
     "metadata": {},
     "output_type": "execute_result"
    }
   ],
   "source": [
    "train_df['DistrictId'].describe()"
   ]
  },
  {
   "cell_type": "markdown",
   "id": "7e30ed64",
   "metadata": {},
   "source": [
    "Всего в датасете указано 205 районов. "
   ]
  },
  {
   "cell_type": "code",
   "execution_count": 21,
   "id": "b779a83a",
   "metadata": {},
   "outputs": [
    {
     "data": {
      "image/png": "[encoded data removed]",
      "text/plain": [
       "<Figure size 800x400 with 1 Axes>"
      ]
     },
     "metadata": {
      "needs_background": "light"
     },
     "output_type": "display_data"
    }
   ],
   "source": [
    "# Посмотрим на графике распределение значений\n",
    "plt.figure(figsize=(10, 5), dpi=80)\n",
    "plt.hist(train_df['DistrictId'], bins = 40)\n",
    "plt.show()"
   ]
  },
  {
   "cell_type": "code",
   "execution_count": 22,
   "id": "10424473",
   "metadata": {},
   "outputs": [
    {
     "data": {
      "text/plain": [
       "178.0"
      ]
     },
     "execution_count": 22,
     "metadata": {},
     "output_type": "execute_result"
    }
   ],
   "source": [
    "train_df['DistrictId'].quantile(0.99)"
   ]
  },
  {
   "cell_type": "markdown",
   "id": "bdad2b0a",
   "metadata": {},
   "source": [
    "#### Ecology_2 - показатели экологии"
   ]
  },
  {
   "cell_type": "code",
   "execution_count": 23,
   "id": "5835cb7f",
   "metadata": {},
   "outputs": [
    {
     "data": {
      "text/plain": [
       "B    9903\n",
       "A      97\n",
       "Name: Ecology_2, dtype: int64"
      ]
     },
     "execution_count": 23,
     "metadata": {},
     "output_type": "execute_result"
    }
   ],
   "source": [
    "train_df['Ecology_2'].value_counts()"
   ]
  },
  {
   "cell_type": "code",
   "execution_count": 24,
   "id": "3f4b20a4",
   "metadata": {},
   "outputs": [
    {
     "data": {
      "text/plain": [
       "B    9725\n",
       "A     275\n",
       "Name: Ecology_3, dtype: int64"
      ]
     },
     "execution_count": 24,
     "metadata": {},
     "output_type": "execute_result"
    }
   ],
   "source": [
    "train_df['Ecology_3'].value_counts()"
   ]
  },
  {
   "cell_type": "markdown",
   "id": "c1374255",
   "metadata": {},
   "source": [
    "Преобладает значение B в обоих признаках. "
   ]
  },
  {
   "cell_type": "markdown",
   "id": "fd937faf",
   "metadata": {},
   "source": [
    "#### Shops_2 - показатель наличия магазинов "
   ]
  },
  {
   "cell_type": "code",
   "execution_count": 25,
   "id": "13a7a61d",
   "metadata": {},
   "outputs": [
    {
     "data": {
      "text/plain": [
       "B    9175\n",
       "A     825\n",
       "Name: Shops_2, dtype: int64"
      ]
     },
     "execution_count": 25,
     "metadata": {},
     "output_type": "execute_result"
    }
   ],
   "source": [
    "train_df['Shops_2'].value_counts()"
   ]
  },
  {
   "cell_type": "markdown",
   "id": "21bc8479",
   "metadata": {},
   "source": [
    "Также преобладает значение B."
   ]
  },
  {
   "cell_type": "markdown",
   "id": "738c433c",
   "metadata": {},
   "source": [
    "## 2. Подготовка признаков"
   ]
  },
  {
   "cell_type": "markdown",
   "id": "b969987f",
   "metadata": {},
   "source": [
    "### Выбросы в вещественных признаках"
   ]
  },
  {
   "cell_type": "markdown",
   "id": "65902d8c",
   "metadata": {},
   "source": [
    "#### Rooms - количество комнат"
   ]
  },
  {
   "cell_type": "code",
   "execution_count": 26,
   "id": "6f39bc66",
   "metadata": {},
   "outputs": [
    {
     "data": {
      "text/plain": [
       "2.0     3880\n",
       "1.0     3705\n",
       "3.0     2235\n",
       "4.0      150\n",
       "5.0       18\n",
       "0.0        8\n",
       "10.0       2\n",
       "19.0       1\n",
       "6.0        1\n",
       "Name: Rooms, dtype: int64"
      ]
     },
     "execution_count": 26,
     "metadata": {},
     "output_type": "execute_result"
    }
   ],
   "source": [
    "train_df['Rooms'].value_counts()"
   ]
  },
  {
   "cell_type": "code",
   "execution_count": 27,
   "id": "394970ab",
   "metadata": {},
   "outputs": [
    {
     "data": {
      "image/png": "[encoded data removed]",
      "text/plain": [
       "<Figure size 800x400 with 1 Axes>"
      ]
     },
     "metadata": {
      "needs_background": "light"
     },
     "output_type": "display_data"
    }
   ],
   "source": [
    "# Посмотрим на графике распределение значений\n",
    "#hist_value_counts(train_df,'Rooms', 9)\n",
    "plt.figure(figsize=(10, 5), dpi=80)\n",
    "plt.hist(train_df['Rooms'], bins = 40)\n",
    "plt.show()"
   ]
  },
  {
   "cell_type": "markdown",
   "id": "964dd59a",
   "metadata": {},
   "source": [
    "По графику видно, что практически все значения располагаются в интервале от 0 до 5. Остальных крайне мало. "
   ]
  },
  {
   "cell_type": "code",
   "execution_count": 28,
   "id": "b4478c55",
   "metadata": {},
   "outputs": [
    {
     "name": "stdout",
     "output_type": "stream",
     "text": [
      "rooms_median:  2.0\n"
     ]
    }
   ],
   "source": [
    "# Те значения, где кол-во комнат указано 0, примем за 1\n",
    "train_df.loc[train_df['Rooms'] == 0, 'Rooms'] = 1\n",
    "\n",
    "# Все остальные выборосы - где кол-во комнат больше 6, заменим на 6\n",
    "rooms_median = train_df['Rooms'].median()\n",
    "print(\"rooms_median: \", rooms_median)\n",
    "train_df.loc[train_df['Rooms'] >= 6, 'Rooms'] = 6"
   ]
  },
  {
   "cell_type": "code",
   "execution_count": 29,
   "id": "7e2407d0",
   "metadata": {},
   "outputs": [
    {
     "data": {
      "text/plain": [
       "2.0    3880\n",
       "1.0    3713\n",
       "3.0    2235\n",
       "4.0     150\n",
       "5.0      18\n",
       "6.0       4\n",
       "Name: Rooms, dtype: int64"
      ]
     },
     "execution_count": 29,
     "metadata": {},
     "output_type": "execute_result"
    }
   ],
   "source": [
    "train_df['Rooms'].value_counts()"
   ]
  },
  {
   "cell_type": "code",
   "execution_count": 30,
   "id": "127b5f1a",
   "metadata": {},
   "outputs": [
    {
     "data": {
      "image/png": "[encoded data removed]",
      "text/plain": [
       "<Figure size 800x400 with 1 Axes>"
      ]
     },
     "metadata": {
      "needs_background": "light"
     },
     "output_type": "display_data"
    }
   ],
   "source": [
    "plt.figure(figsize=(10, 5), dpi=80)\n",
    "plt.hist(train_df['Rooms'], bins = 40)\n",
    "plt.show()"
   ]
  },
  {
   "cell_type": "markdown",
   "id": "dcfdb584",
   "metadata": {},
   "source": [
    "#### Square - площадь квартиры"
   ]
  },
  {
   "cell_type": "code",
   "execution_count": 31,
   "id": "f435b83c",
   "metadata": {},
   "outputs": [
    {
     "data": {
      "text/plain": [
       "count    10000.000000\n",
       "mean        56.315775\n",
       "std         21.058732\n",
       "min          1.136859\n",
       "25%         41.774881\n",
       "50%         52.513310\n",
       "75%         65.900625\n",
       "max        641.065193\n",
       "Name: Square, dtype: float64"
      ]
     },
     "execution_count": 31,
     "metadata": {},
     "output_type": "execute_result"
    }
   ],
   "source": [
    "train_df['Square'].describe()"
   ]
  },
  {
   "cell_type": "code",
   "execution_count": 32,
   "id": "a193f256",
   "metadata": {},
   "outputs": [
    {
     "data": {
      "image/png": "[encoded data removed]",
      "text/plain": [
       "<Figure size 800x400 with 1 Axes>"
      ]
     },
     "metadata": {
      "needs_background": "light"
     },
     "output_type": "display_data"
    }
   ],
   "source": [
    "# Посмотрим на графике распределение значений\n",
    "plt.figure(figsize=(10, 5), dpi=80)\n",
    "plt.hist(train_df['Square'], bins = 40)\n",
    "plt.show()"
   ]
  },
  {
   "cell_type": "code",
   "execution_count": 33,
   "id": "4bda6d16",
   "metadata": {},
   "outputs": [
    {
     "data": {
      "text/plain": [
       "117.85611482113002"
      ]
     },
     "execution_count": 33,
     "metadata": {},
     "output_type": "execute_result"
    }
   ],
   "source": [
    "square_quantile_99 = train_df['Square'].quantile(0.99)\n",
    "square_quantile_99"
   ]
  },
  {
   "cell_type": "code",
   "execution_count": 34,
   "id": "d5bcd2aa",
   "metadata": {},
   "outputs": [],
   "source": [
    "# Все значения, которые выходят за квантиль, заменим на значение этого квантиля\n",
    "# ! Идея - заменить на среднее значение между квантилем и этим значением\n",
    "condition = train_df['Square'] > square_quantile_99        \n",
    "#train_df.loc[condition, 'Square'] = (square_quantile_99 + train_df.loc[condition, 'Square'])/2\n",
    "train_df.loc[condition, 'Square'] = square_quantile_99"
   ]
  },
  {
   "cell_type": "code",
   "execution_count": 35,
   "id": "7929a061",
   "metadata": {},
   "outputs": [
    {
     "data": {
      "text/plain": [
       "7470     1.136859\n",
       "4496     1.988943\n",
       "9869     2.377248\n",
       "8572     2.596351\n",
       "161      2.954309\n",
       "8805     4.380726\n",
       "328      4.390331\n",
       "4800     4.502784\n",
       "5009     4.633498\n",
       "9067     4.823679\n",
       "1401     5.129222\n",
       "7033     5.497061\n",
       "9286    13.784865\n",
       "5870    16.117154\n",
       "3686    16.547242\n",
       "9349    17.046188\n",
       "8501    17.414181\n",
       "6632    17.498542\n",
       "8330    18.509177\n",
       "9990    18.983962\n",
       "7209    19.927423\n",
       "890     20.213128\n",
       "6379    20.606762\n",
       "299     20.924926\n",
       "9631    21.121279\n",
       "623     22.072457\n",
       "2576    22.682706\n",
       "1717    22.691542\n",
       "242     23.015919\n",
       "5596    23.583220\n",
       "4268    23.891837\n",
       "3750    24.711701\n",
       "1248    24.749737\n",
       "7967    24.769705\n",
       "964     25.410513\n",
       "3656    25.449554\n",
       "7237    25.494402\n",
       "1208    25.543282\n",
       "8854    25.761151\n",
       "4028    25.903220\n",
       "Name: Square, dtype: float64"
      ]
     },
     "execution_count": 35,
     "metadata": {},
     "output_type": "execute_result"
    }
   ],
   "source": [
    "train_df['Square'].sort_values().head(40)"
   ]
  },
  {
   "cell_type": "code",
   "execution_count": 36,
   "id": "b3a0069e",
   "metadata": {},
   "outputs": [],
   "source": [
    "train_df.loc[train_df['Square'] < 25, 'Square'] = 25"
   ]
  },
  {
   "cell_type": "code",
   "execution_count": 37,
   "id": "cb35942e",
   "metadata": {},
   "outputs": [
    {
     "data": {
      "image/png": "[encoded data removed]",
      "text/plain": [
       "<Figure size 800x400 with 1 Axes>"
      ]
     },
     "metadata": {
      "needs_background": "light"
     },
     "output_type": "display_data"
    }
   ],
   "source": [
    "plt.figure(figsize=(10, 5), dpi=80)\n",
    "plt.hist(train_df['Square'], bins = 40)\n",
    "plt.show()"
   ]
  },
  {
   "cell_type": "markdown",
   "id": "99bd58fc",
   "metadata": {},
   "source": [
    "#### KitchenSquare - площадь кухни"
   ]
  },
  {
   "cell_type": "code",
   "execution_count": 38,
   "id": "c919fc33",
   "metadata": {},
   "outputs": [
    {
     "data": {
      "text/plain": [
       "count    10000.000000\n",
       "mean         6.273300\n",
       "std         28.560917\n",
       "min          0.000000\n",
       "25%          1.000000\n",
       "50%          6.000000\n",
       "75%          9.000000\n",
       "max       2014.000000\n",
       "Name: KitchenSquare, dtype: float64"
      ]
     },
     "execution_count": 38,
     "metadata": {},
     "output_type": "execute_result"
    }
   ],
   "source": [
    "train_df['KitchenSquare'].describe()"
   ]
  },
  {
   "cell_type": "code",
   "execution_count": 39,
   "id": "fb62af94",
   "metadata": {},
   "outputs": [
    {
     "data": {
      "text/plain": [
       "0       10.0\n",
       "1        8.0\n",
       "2       10.0\n",
       "3        1.0\n",
       "4        9.0\n",
       "        ... \n",
       "9995     6.0\n",
       "9996     9.0\n",
       "9997     5.0\n",
       "9998     5.0\n",
       "9999     6.0\n",
       "Name: KitchenSquare, Length: 10000, dtype: float64"
      ]
     },
     "execution_count": 39,
     "metadata": {},
     "output_type": "execute_result"
    }
   ],
   "source": [
    "train_df['KitchenSquare']"
   ]
  },
  {
   "cell_type": "code",
   "execution_count": 40,
   "id": "edee7467",
   "metadata": {},
   "outputs": [
    {
     "data": {
      "image/png": "[encoded data removed]",
      "text/plain": [
       "<Figure size 800x400 with 1 Axes>"
      ]
     },
     "metadata": {
      "needs_background": "light"
     },
     "output_type": "display_data"
    }
   ],
   "source": [
    "# Посмотрим на графике распределение значений\n",
    "plt.figure(figsize=(10, 5), dpi=80)\n",
    "plt.hist(train_df['KitchenSquare'], bins = 40)\n",
    "plt.show()"
   ]
  },
  {
   "cell_type": "code",
   "execution_count": 41,
   "id": "8f57db5c",
   "metadata": {},
   "outputs": [
    {
     "name": "stdout",
     "output_type": "stream",
     "text": [
      "kitchen_square_median:  6.0\n"
     ]
    }
   ],
   "source": [
    "# Те значения, где площадь кухни 1970 и 2014 - явные выбросы, заменим их на медиану\n",
    "kitchen_square_median = train_df['KitchenSquare'].median()\n",
    "print(\"kitchen_square_median: \", kitchen_square_median)\n",
    "train_df.loc[train_df['KitchenSquare'] == 1970, 'KitchenSquare'] = kitchen_square_median\n",
    "train_df.loc[train_df['KitchenSquare'] == 2014, 'KitchenSquare'] = kitchen_square_median"
   ]
  },
  {
   "cell_type": "code",
   "execution_count": 42,
   "id": "e9c45b83",
   "metadata": {},
   "outputs": [
    {
     "data": {
      "text/plain": [
       "3       1.0\n",
       "8       1.0\n",
       "9       1.0\n",
       "18      1.0\n",
       "19      1.0\n",
       "       ... \n",
       "9981    1.0\n",
       "9982    1.0\n",
       "9983    1.0\n",
       "9991    0.0\n",
       "9993    0.0\n",
       "Name: KitchenSquare, Length: 3157, dtype: float64"
      ]
     },
     "execution_count": 42,
     "metadata": {},
     "output_type": "execute_result"
    }
   ],
   "source": [
    "# Площадь кухни меньше 2 метров - не похоже на правду\n",
    "train_df.loc[train_df['KitchenSquare'] < 2, 'KitchenSquare']"
   ]
  },
  {
   "cell_type": "code",
   "execution_count": 43,
   "id": "281ea13d",
   "metadata": {},
   "outputs": [],
   "source": [
    "# Поэтому заменим все площади меньше 2 метров на 2\n",
    "train_df.loc[train_df['KitchenSquare'] < 2, 'KitchenSquare'] = 2"
   ]
  },
  {
   "cell_type": "code",
   "execution_count": 44,
   "id": "3497c1cf",
   "metadata": {},
   "outputs": [
    {
     "data": {
      "text/plain": [
       "16.0"
      ]
     },
     "execution_count": 44,
     "metadata": {},
     "output_type": "execute_result"
    }
   ],
   "source": [
    "# Посмотрим, каким значением ограничены 99% всех значений датасета\n",
    "quantile_99 = train_df['KitchenSquare'].quantile(.990)\n",
    "quantile_99"
   ]
  },
  {
   "cell_type": "code",
   "execution_count": 45,
   "id": "6f2acd16",
   "metadata": {},
   "outputs": [],
   "source": [
    "# Все значения, которые выходят за квантиль, заменим на значение этого квантиля\n",
    "condition = train_df['KitchenSquare'] > quantile_99        \n",
    "train_df.loc[condition, 'KitchenSquare'] = quantile_99"
   ]
  },
  {
   "cell_type": "code",
   "execution_count": 46,
   "id": "d4e2b8ce",
   "metadata": {},
   "outputs": [
    {
     "data": {
      "image/png": "[encoded data removed]",
      "text/plain": [
       "<Figure size 800x400 with 1 Axes>"
      ]
     },
     "metadata": {
      "needs_background": "light"
     },
     "output_type": "display_data"
    }
   ],
   "source": [
    "# Посмотрим на графике распределение значений после преобразований \n",
    "plt.figure(figsize=(10, 5), dpi=80)\n",
    "plt.hist(train_df['KitchenSquare'], bins = 40)\n",
    "plt.show()"
   ]
  },
  {
   "cell_type": "markdown",
   "id": "fdd80172",
   "metadata": {},
   "source": [
    "#### HouseFloor - этажность дома"
   ]
  },
  {
   "cell_type": "code",
   "execution_count": 47,
   "id": "4a4b80b4",
   "metadata": {},
   "outputs": [
    {
     "data": {
      "text/plain": [
       "0"
      ]
     },
     "execution_count": 47,
     "metadata": {},
     "output_type": "execute_result"
    }
   ],
   "source": [
    "train_df['HouseFloor'].isna().sum()"
   ]
  },
  {
   "cell_type": "code",
   "execution_count": 48,
   "id": "2faec318",
   "metadata": {},
   "outputs": [
    {
     "data": {
      "image/png": "[encoded data removed]",
      "text/plain": [
       "<Figure size 800x400 with 1 Axes>"
      ]
     },
     "metadata": {
      "needs_background": "light"
     },
     "output_type": "display_data"
    }
   ],
   "source": [
    "# Посмотрим на графике распределение значений\n",
    "plt.figure(figsize=(10, 5), dpi=80)\n",
    "plt.hist(train_df['HouseFloor'], bins = 40)\n",
    "plt.show()"
   ]
  },
  {
   "cell_type": "code",
   "execution_count": 49,
   "id": "46417c56",
   "metadata": {},
   "outputs": [
    {
     "data": {
      "text/plain": [
       "17.0     2331\n",
       "9.0      1389\n",
       "12.0     1074\n",
       "5.0      1031\n",
       "14.0      625\n",
       "16.0      576\n",
       "1.0       497\n",
       "25.0      374\n",
       "22.0      343\n",
       "0.0       269\n",
       "24.0      176\n",
       "8.0       141\n",
       "10.0      135\n",
       "4.0       134\n",
       "3.0       127\n",
       "15.0      123\n",
       "19.0      108\n",
       "20.0      105\n",
       "18.0       89\n",
       "7.0        59\n",
       "6.0        58\n",
       "2.0        48\n",
       "23.0       40\n",
       "21.0       33\n",
       "11.0       28\n",
       "13.0       27\n",
       "30.0       21\n",
       "40.0        7\n",
       "27.0        6\n",
       "32.0        4\n",
       "37.0        4\n",
       "28.0        3\n",
       "99.0        2\n",
       "39.0        2\n",
       "48.0        2\n",
       "47.0        1\n",
       "38.0        1\n",
       "36.0        1\n",
       "29.0        1\n",
       "44.0        1\n",
       "31.0        1\n",
       "117.0       1\n",
       "45.0        1\n",
       "26.0        1\n",
       "Name: HouseFloor, dtype: int64"
      ]
     },
     "execution_count": 49,
     "metadata": {},
     "output_type": "execute_result"
    }
   ],
   "source": [
    "train_df['HouseFloor'].value_counts()"
   ]
  },
  {
   "cell_type": "code",
   "execution_count": 50,
   "id": "b9916f18",
   "metadata": {},
   "outputs": [],
   "source": [
    "# Допустим, сделали опечатку при записи 117 и 99 этажей.\n",
    "train_df.loc[train_df['HouseFloor'] == 117, 'HouseFloor'] = 17\n",
    "train_df.loc[train_df['HouseFloor'] == 99, 'HouseFloor'] = 9"
   ]
  },
  {
   "cell_type": "code",
   "execution_count": 51,
   "id": "da20ce40",
   "metadata": {},
   "outputs": [
    {
     "data": {
      "image/png": "[encoded data removed]",
      "text/plain": [
       "<Figure size 800x400 with 1 Axes>"
      ]
     },
     "metadata": {
      "needs_background": "light"
     },
     "output_type": "display_data"
    }
   ],
   "source": [
    "# Посмотрим на графике распределение значений\n",
    "plt.figure(figsize=(10, 5), dpi=80)\n",
    "plt.hist(train_df['HouseFloor'], bins = 40)\n",
    "plt.show()"
   ]
  },
  {
   "cell_type": "code",
   "execution_count": 52,
   "id": "79019ecf",
   "metadata": {},
   "outputs": [
    {
     "data": {
      "text/plain": [
       "0    17.0\n",
       "Name: HouseFloor, dtype: float64"
      ]
     },
     "execution_count": 52,
     "metadata": {},
     "output_type": "execute_result"
    }
   ],
   "source": [
    "train_df['HouseFloor'].mode()"
   ]
  },
  {
   "cell_type": "code",
   "execution_count": 53,
   "id": "c77088f0",
   "metadata": {},
   "outputs": [],
   "source": [
    "# все нулевые заменим на моду\n",
    "train_df.loc[train_df['HouseFloor'] == 0, 'HouseFloor'] = train_df['HouseFloor'].mode()"
   ]
  },
  {
   "cell_type": "markdown",
   "id": "d924de5c",
   "metadata": {},
   "source": [
    "#### Floor - этаж, на котором находится квартира"
   ]
  },
  {
   "cell_type": "code",
   "execution_count": 54,
   "id": "3b5f25cd",
   "metadata": {},
   "outputs": [
    {
     "data": {
      "text/plain": [
       "array([ 1.,  2.,  3.,  4.,  5.,  6.,  7.,  8.,  9., 10., 11., 12., 13.,\n",
       "       14., 15., 16., 17., 18., 19., 20., 21., 22., 23., 24., 25., 26.,\n",
       "       27., 28., 29., 30., 31., 32., 36., 37., 38., 39., 40., 44., 45.,\n",
       "       47., 48., nan])"
      ]
     },
     "execution_count": 54,
     "metadata": {},
     "output_type": "execute_result"
    }
   ],
   "source": [
    "# Посмотрим, какие есть возможные варианты этажности дома\n",
    "train_df['HouseFloor'].sort_values().unique()"
   ]
  },
  {
   "cell_type": "code",
   "execution_count": 55,
   "id": "ff1d2e20",
   "metadata": {},
   "outputs": [
    {
     "data": {
      "text/plain": [
       "array([ 1,  2,  3,  4,  5,  6,  7,  8,  9, 10, 11, 12, 13, 14, 15, 16, 17,\n",
       "       18, 19, 20, 21, 22, 23, 24, 25, 26, 27, 28, 31, 32, 33, 37, 42],\n",
       "      dtype=int64)"
      ]
     },
     "execution_count": 55,
     "metadata": {},
     "output_type": "execute_result"
    }
   ],
   "source": [
    "# Посмотрим, какие значения этажей присутствуют в датасете\n",
    "train_df['Floor'].sort_values().unique()"
   ]
  },
  {
   "cell_type": "markdown",
   "id": "4a1128c4",
   "metadata": {},
   "source": [
    "Проверим, есть ли такие значения Floor, которые превышают этажность дома. Это точно выбросы"
   ]
  },
  {
   "cell_type": "code",
   "execution_count": 56,
   "id": "3d868251",
   "metadata": {},
   "outputs": [
    {
     "name": "stdout",
     "output_type": "stream",
     "text": [
      "1556\n"
     ]
    }
   ],
   "source": [
    "condition_floor = train_df['Floor'] > train_df['HouseFloor']\n",
    "print((condition_floor).sum())\n",
    "# Выявлено 1825 ошибочных строк\n",
    "# Добавим новое поле, которое разделит на выбросы и правильные значения\n",
    "train_df['HouseFloor_outlier'] = 0\n",
    "# 0й - тоже выброс, т.к. нумерация этажей начинается с 1\n",
    "train_df.loc[train_df['HouseFloor'] == 0, 'HouseFloor_outlier'] = 1\n",
    "# Все записи, где этаж квартиры превышает этажность дома - это выбросы\n",
    "train_df.loc[condition_floor, 'HouseFloor_outlier'] = 1"
   ]
  },
  {
   "cell_type": "code",
   "execution_count": 57,
   "id": "72eafa72",
   "metadata": {},
   "outputs": [
    {
     "name": "stdout",
     "output_type": "stream",
     "text": [
      "Int64Index([  17,   19,   21,   25,   26,   33,   34,   37,   39,   44,\n",
      "            ...\n",
      "            9912, 9913, 9921, 9930, 9938, 9953, 9960, 9968, 9970, 9975],\n",
      "           dtype='int64', length=1556)\n"
     ]
    }
   ],
   "source": [
    "# найдем индексы всех остальных\n",
    "floor_outliers = train_df.loc[train_df['Floor'] > train_df['HouseFloor']].index\n",
    "print(floor_outliers)\n",
    "# И заменим на значение, не превыщающее этажность дома\n",
    "train_df.loc[floor_outliers, 'Floor'] = train_df.loc[floor_outliers, 'HouseFloor'].apply(lambda x: random.randint(1, x))"
   ]
  },
  {
   "cell_type": "code",
   "execution_count": 58,
   "id": "8d0c8115",
   "metadata": {},
   "outputs": [
    {
     "data": {
      "text/plain": [
       "0"
      ]
     },
     "execution_count": 58,
     "metadata": {},
     "output_type": "execute_result"
    }
   ],
   "source": [
    "(train_df['Floor'] > train_df['HouseFloor']).sum()"
   ]
  },
  {
   "cell_type": "markdown",
   "id": "69bff229",
   "metadata": {},
   "source": [
    "#### HouseYear - год постройки дома"
   ]
  },
  {
   "cell_type": "code",
   "execution_count": 59,
   "id": "277f6db8",
   "metadata": {},
   "outputs": [
    {
     "data": {
      "text/plain": [
       "9163    20052011\n",
       "8828        4968\n",
       "7721        2020\n",
       "9122        2020\n",
       "7955        2020\n",
       "          ...   \n",
       "7610        1916\n",
       "6250        1914\n",
       "2066        1912\n",
       "2795        1912\n",
       "6794        1910\n",
       "Name: HouseYear, Length: 10000, dtype: int64"
      ]
     },
     "execution_count": 59,
     "metadata": {},
     "output_type": "execute_result"
    }
   ],
   "source": [
    "train_df['HouseYear'].sort_values(ascending=False)"
   ]
  },
  {
   "cell_type": "code",
   "execution_count": 60,
   "id": "1d01806e",
   "metadata": {},
   "outputs": [
    {
     "data": {
      "text/plain": [
       "1977        2652\n",
       "2017         308\n",
       "2016         305\n",
       "2015         299\n",
       "2014         210\n",
       "            ... \n",
       "1928           1\n",
       "1910           1\n",
       "1916           1\n",
       "4968           1\n",
       "20052011       1\n",
       "Name: HouseYear, Length: 97, dtype: int64"
      ]
     },
     "execution_count": 60,
     "metadata": {},
     "output_type": "execute_result"
    }
   ],
   "source": [
    "train_df['HouseYear'].value_counts()"
   ]
  },
  {
   "cell_type": "code",
   "execution_count": 61,
   "id": "43812544",
   "metadata": {},
   "outputs": [],
   "source": [
    "# Явные выбросы\n",
    "train_df.loc[train_df['HouseYear'] == 20052011, 'HouseYear'] = 2011\n",
    "train_df.loc[train_df['HouseYear'] == 4968, 'HouseYear'] = 1968"
   ]
  },
  {
   "cell_type": "code",
   "execution_count": 62,
   "id": "b19029b2",
   "metadata": {},
   "outputs": [
    {
     "data": {
      "image/png": "[encoded data removed]",
      "text/plain": [
       "<Figure size 800x400 with 1 Axes>"
      ]
     },
     "metadata": {
      "needs_background": "light"
     },
     "output_type": "display_data"
    }
   ],
   "source": [
    "# Посмотрим на графике распределение значений\n",
    "plt.figure(figsize=(10, 5), dpi=80)\n",
    "plt.hist(train_df['HouseYear'], bins = 40)\n",
    "plt.show()"
   ]
  },
  {
   "cell_type": "code",
   "execution_count": 63,
   "id": "055fbee1",
   "metadata": {},
   "outputs": [
    {
     "data": {
      "text/plain": [
       "77"
      ]
     },
     "execution_count": 63,
     "metadata": {},
     "output_type": "execute_result"
    }
   ],
   "source": [
    "(train_df['HouseYear'] < 1950).sum()"
   ]
  },
  {
   "cell_type": "code",
   "execution_count": 64,
   "id": "ee595f5d",
   "metadata": {},
   "outputs": [],
   "source": [
    "# Значения слева\n",
    "train_df.loc[train_df['HouseYear'] < 1950, 'HouseYear'] = 1950"
   ]
  },
  {
   "cell_type": "code",
   "execution_count": 65,
   "id": "143541d2",
   "metadata": {},
   "outputs": [
    {
     "data": {
      "image/png": "[encoded data removed]",
      "text/plain": [
       "<Figure size 800x400 with 1 Axes>"
      ]
     },
     "metadata": {
      "needs_background": "light"
     },
     "output_type": "display_data"
    }
   ],
   "source": [
    "# Посмотрим на графике распределение значений\n",
    "plt.figure(figsize=(10, 5), dpi=80)\n",
    "plt.hist(train_df['HouseYear'], bins = 40)\n",
    "plt.show()"
   ]
  },
  {
   "cell_type": "code",
   "execution_count": 66,
   "id": "ca2cb6b8",
   "metadata": {},
   "outputs": [
    {
     "data": {
      "text/html": [
       "<div>\n",
       "<style scoped>\n",
       "    .dataframe tbody tr th:only-of-type {\n",
       "        vertical-align: middle;\n",
       "    }\n",
       "\n",
       "    .dataframe tbody tr th {\n",
       "        vertical-align: top;\n",
       "    }\n",
       "\n",
       "    .dataframe thead th {\n",
       "        text-align: right;\n",
       "    }\n",
       "</style>\n",
       "<table border=\"1\" class=\"dataframe\">\n",
       "  <thead>\n",
       "    <tr style=\"text-align: right;\">\n",
       "      <th></th>\n",
       "      <th>Id</th>\n",
       "      <th>DistrictId</th>\n",
       "      <th>Rooms</th>\n",
       "      <th>Square</th>\n",
       "      <th>LifeSquare</th>\n",
       "      <th>KitchenSquare</th>\n",
       "      <th>Floor</th>\n",
       "      <th>HouseFloor</th>\n",
       "      <th>HouseYear</th>\n",
       "      <th>Ecology_1</th>\n",
       "      <th>Social_1</th>\n",
       "      <th>Social_2</th>\n",
       "      <th>Social_3</th>\n",
       "      <th>Healthcare_1</th>\n",
       "      <th>Helthcare_2</th>\n",
       "      <th>Shops_1</th>\n",
       "      <th>Price</th>\n",
       "      <th>HouseFloor_outlier</th>\n",
       "    </tr>\n",
       "  </thead>\n",
       "  <tbody>\n",
       "    <tr>\n",
       "      <th>count</th>\n",
       "      <td>10000.00000</td>\n",
       "      <td>10000.000000</td>\n",
       "      <td>10000.000000</td>\n",
       "      <td>10000.000000</td>\n",
       "      <td>7887.000000</td>\n",
       "      <td>10000.00000</td>\n",
       "      <td>10000.000000</td>\n",
       "      <td>9731.000000</td>\n",
       "      <td>10000.000000</td>\n",
       "      <td>10000.000000</td>\n",
       "      <td>10000.000000</td>\n",
       "      <td>10000.000000</td>\n",
       "      <td>10000.000000</td>\n",
       "      <td>5202.000000</td>\n",
       "      <td>10000.000000</td>\n",
       "      <td>10000.000000</td>\n",
       "      <td>10000.000000</td>\n",
       "      <td>10000.000000</td>\n",
       "    </tr>\n",
       "    <tr>\n",
       "      <th>mean</th>\n",
       "      <td>8383.40770</td>\n",
       "      <td>50.400800</td>\n",
       "      <td>1.889200</td>\n",
       "      <td>56.004742</td>\n",
       "      <td>37.199645</td>\n",
       "      <td>6.09580</td>\n",
       "      <td>7.466900</td>\n",
       "      <td>12.929195</td>\n",
       "      <td>1985.005800</td>\n",
       "      <td>0.118858</td>\n",
       "      <td>24.687000</td>\n",
       "      <td>5352.157400</td>\n",
       "      <td>8.039200</td>\n",
       "      <td>1142.904460</td>\n",
       "      <td>1.319500</td>\n",
       "      <td>4.231300</td>\n",
       "      <td>214138.857399</td>\n",
       "      <td>0.155600</td>\n",
       "    </tr>\n",
       "    <tr>\n",
       "      <th>std</th>\n",
       "      <td>4859.01902</td>\n",
       "      <td>43.587592</td>\n",
       "      <td>0.815592</td>\n",
       "      <td>18.084828</td>\n",
       "      <td>86.241209</td>\n",
       "      <td>3.42032</td>\n",
       "      <td>5.091768</td>\n",
       "      <td>6.327384</td>\n",
       "      <td>18.058604</td>\n",
       "      <td>0.119025</td>\n",
       "      <td>17.532614</td>\n",
       "      <td>4006.799803</td>\n",
       "      <td>23.831875</td>\n",
       "      <td>1021.517264</td>\n",
       "      <td>1.493601</td>\n",
       "      <td>4.806341</td>\n",
       "      <td>92872.293865</td>\n",
       "      <td>0.362494</td>\n",
       "    </tr>\n",
       "    <tr>\n",
       "      <th>min</th>\n",
       "      <td>0.00000</td>\n",
       "      <td>0.000000</td>\n",
       "      <td>1.000000</td>\n",
       "      <td>25.000000</td>\n",
       "      <td>0.370619</td>\n",
       "      <td>2.00000</td>\n",
       "      <td>1.000000</td>\n",
       "      <td>1.000000</td>\n",
       "      <td>1950.000000</td>\n",
       "      <td>0.000000</td>\n",
       "      <td>0.000000</td>\n",
       "      <td>168.000000</td>\n",
       "      <td>0.000000</td>\n",
       "      <td>0.000000</td>\n",
       "      <td>0.000000</td>\n",
       "      <td>0.000000</td>\n",
       "      <td>59174.778028</td>\n",
       "      <td>0.000000</td>\n",
       "    </tr>\n",
       "    <tr>\n",
       "      <th>25%</th>\n",
       "      <td>4169.50000</td>\n",
       "      <td>20.000000</td>\n",
       "      <td>1.000000</td>\n",
       "      <td>41.774881</td>\n",
       "      <td>22.769832</td>\n",
       "      <td>2.00000</td>\n",
       "      <td>3.000000</td>\n",
       "      <td>9.000000</td>\n",
       "      <td>1974.000000</td>\n",
       "      <td>0.017647</td>\n",
       "      <td>6.000000</td>\n",
       "      <td>1564.000000</td>\n",
       "      <td>0.000000</td>\n",
       "      <td>350.000000</td>\n",
       "      <td>0.000000</td>\n",
       "      <td>1.000000</td>\n",
       "      <td>153872.633942</td>\n",
       "      <td>0.000000</td>\n",
       "    </tr>\n",
       "    <tr>\n",
       "      <th>50%</th>\n",
       "      <td>8394.50000</td>\n",
       "      <td>36.000000</td>\n",
       "      <td>2.000000</td>\n",
       "      <td>52.513310</td>\n",
       "      <td>32.781260</td>\n",
       "      <td>6.00000</td>\n",
       "      <td>6.000000</td>\n",
       "      <td>14.000000</td>\n",
       "      <td>1977.000000</td>\n",
       "      <td>0.075424</td>\n",
       "      <td>25.000000</td>\n",
       "      <td>5285.000000</td>\n",
       "      <td>2.000000</td>\n",
       "      <td>900.000000</td>\n",
       "      <td>1.000000</td>\n",
       "      <td>3.000000</td>\n",
       "      <td>192269.644879</td>\n",
       "      <td>0.000000</td>\n",
       "    </tr>\n",
       "    <tr>\n",
       "      <th>75%</th>\n",
       "      <td>12592.50000</td>\n",
       "      <td>75.000000</td>\n",
       "      <td>2.000000</td>\n",
       "      <td>65.900625</td>\n",
       "      <td>45.128803</td>\n",
       "      <td>9.00000</td>\n",
       "      <td>11.000000</td>\n",
       "      <td>17.000000</td>\n",
       "      <td>2001.000000</td>\n",
       "      <td>0.195781</td>\n",
       "      <td>36.000000</td>\n",
       "      <td>7227.000000</td>\n",
       "      <td>5.000000</td>\n",
       "      <td>1548.000000</td>\n",
       "      <td>2.000000</td>\n",
       "      <td>6.000000</td>\n",
       "      <td>249135.462171</td>\n",
       "      <td>0.000000</td>\n",
       "    </tr>\n",
       "    <tr>\n",
       "      <th>max</th>\n",
       "      <td>16798.00000</td>\n",
       "      <td>209.000000</td>\n",
       "      <td>6.000000</td>\n",
       "      <td>117.856115</td>\n",
       "      <td>7480.592129</td>\n",
       "      <td>16.00000</td>\n",
       "      <td>42.000000</td>\n",
       "      <td>48.000000</td>\n",
       "      <td>2020.000000</td>\n",
       "      <td>0.521867</td>\n",
       "      <td>74.000000</td>\n",
       "      <td>19083.000000</td>\n",
       "      <td>141.000000</td>\n",
       "      <td>4849.000000</td>\n",
       "      <td>6.000000</td>\n",
       "      <td>23.000000</td>\n",
       "      <td>633233.466570</td>\n",
       "      <td>1.000000</td>\n",
       "    </tr>\n",
       "  </tbody>\n",
       "</table>\n",
       "</div>"
      ],
      "text/plain": [
       "                Id    DistrictId         Rooms        Square   LifeSquare  \\\n",
       "count  10000.00000  10000.000000  10000.000000  10000.000000  7887.000000   \n",
       "mean    8383.40770     50.400800      1.889200     56.004742    37.199645   \n",
       "std     4859.01902     43.587592      0.815592     18.084828    86.241209   \n",
       "min        0.00000      0.000000      1.000000     25.000000     0.370619   \n",
       "25%     4169.50000     20.000000      1.000000     41.774881    22.769832   \n",
       "50%     8394.50000     36.000000      2.000000     52.513310    32.781260   \n",
       "75%    12592.50000     75.000000      2.000000     65.900625    45.128803   \n",
       "max    16798.00000    209.000000      6.000000    117.856115  7480.592129   \n",
       "\n",
       "       KitchenSquare         Floor   HouseFloor     HouseYear     Ecology_1  \\\n",
       "count    10000.00000  10000.000000  9731.000000  10000.000000  10000.000000   \n",
       "mean         6.09580      7.466900    12.929195   1985.005800      0.118858   \n",
       "std          3.42032      5.091768     6.327384     18.058604      0.119025   \n",
       "min          2.00000      1.000000     1.000000   1950.000000      0.000000   \n",
       "25%          2.00000      3.000000     9.000000   1974.000000      0.017647   \n",
       "50%          6.00000      6.000000    14.000000   1977.000000      0.075424   \n",
       "75%          9.00000     11.000000    17.000000   2001.000000      0.195781   \n",
       "max         16.00000     42.000000    48.000000   2020.000000      0.521867   \n",
       "\n",
       "           Social_1      Social_2      Social_3  Healthcare_1   Helthcare_2  \\\n",
       "count  10000.000000  10000.000000  10000.000000   5202.000000  10000.000000   \n",
       "mean      24.687000   5352.157400      8.039200   1142.904460      1.319500   \n",
       "std       17.532614   4006.799803     23.831875   1021.517264      1.493601   \n",
       "min        0.000000    168.000000      0.000000      0.000000      0.000000   \n",
       "25%        6.000000   1564.000000      0.000000    350.000000      0.000000   \n",
       "50%       25.000000   5285.000000      2.000000    900.000000      1.000000   \n",
       "75%       36.000000   7227.000000      5.000000   1548.000000      2.000000   \n",
       "max       74.000000  19083.000000    141.000000   4849.000000      6.000000   \n",
       "\n",
       "            Shops_1          Price  HouseFloor_outlier  \n",
       "count  10000.000000   10000.000000        10000.000000  \n",
       "mean       4.231300  214138.857399            0.155600  \n",
       "std        4.806341   92872.293865            0.362494  \n",
       "min        0.000000   59174.778028            0.000000  \n",
       "25%        1.000000  153872.633942            0.000000  \n",
       "50%        3.000000  192269.644879            0.000000  \n",
       "75%        6.000000  249135.462171            0.000000  \n",
       "max       23.000000  633233.466570            1.000000  "
      ]
     },
     "execution_count": 66,
     "metadata": {},
     "output_type": "execute_result"
    }
   ],
   "source": [
    "#train_df.drop(['HouseFloor_outlier'], axis=1, inplace=True)\n",
    "train_df.describe()"
   ]
  },
  {
   "cell_type": "markdown",
   "id": "7bdf0284",
   "metadata": {},
   "source": [
    "### Замена NaN значений"
   ]
  },
  {
   "cell_type": "code",
   "execution_count": 67,
   "id": "4ec00cd0",
   "metadata": {},
   "outputs": [
    {
     "data": {
      "text/plain": [
       "Id                       0\n",
       "DistrictId               0\n",
       "Rooms                    0\n",
       "Square                   0\n",
       "LifeSquare            2113\n",
       "KitchenSquare            0\n",
       "Floor                    0\n",
       "HouseFloor             269\n",
       "HouseYear                0\n",
       "Ecology_1                0\n",
       "Ecology_2                0\n",
       "Ecology_3                0\n",
       "Social_1                 0\n",
       "Social_2                 0\n",
       "Social_3                 0\n",
       "Healthcare_1          4798\n",
       "Helthcare_2              0\n",
       "Shops_1                  0\n",
       "Shops_2                  0\n",
       "Price                    0\n",
       "HouseFloor_outlier       0\n",
       "dtype: int64"
      ]
     },
     "execution_count": 67,
     "metadata": {},
     "output_type": "execute_result"
    }
   ],
   "source": [
    "# Выведем количество пропущенных значений в каждом столбце\n",
    "train_df.isna().sum()"
   ]
  },
  {
   "cell_type": "markdown",
   "id": "bcab6754",
   "metadata": {},
   "source": [
    "#### Healthcare_1"
   ]
  },
  {
   "cell_type": "markdown",
   "id": "42c898e9",
   "metadata": {},
   "source": [
    "Предскажем пропущенные значения по известным данным. \n",
    "1. Выберем часть признаков, полностью заполненных. А признак Healthcare_1 обозначим как целевую переменную. \n",
    "2. Разобьем выборку на 2 части: \n",
    "   * тренировочную - все данные, где Healthcare_1 заполнено, \n",
    "   * тестовую - все данные с Healthcare_1=NaN. \n",
    "3. Создадим модель, обучим ее на полных данных. И предскажем Healthcare_1 для тестовых данных."
   ]
  },
  {
   "cell_type": "markdown",
   "id": "e0af55e6",
   "metadata": {},
   "source": [
    "#### LifeSquare"
   ]
  },
  {
   "cell_type": "markdown",
   "id": "117f5307",
   "metadata": {},
   "source": [
    "Что нужно сделать:\n",
    "1. Предсказать пропущенные значения по известным данным\n",
    "2. Проверить значения на адекватность по сравнению со всей площадью квартиры Square\n",
    "\n",
    "Предскажем пропущенные значения по известным данным. \n",
    "1. Выберем часть признаков, полностью заполненных. А признак LifeSquare обозначим как целевую переменную. \n",
    "2. Разобьем выборку на 2 части: \n",
    "   * тренировочную - все данные, где LifeSquare заполнено, \n",
    "   * тестовую - все данные с LifeSquare=NaN. \n",
    "3. Создадим модель, обучим ее на полных данных. И предскажем LifeSquare для тестовых данных."
   ]
  },
  {
   "cell_type": "code",
   "execution_count": 93,
   "id": "210b4bf9",
   "metadata": {},
   "outputs": [],
   "source": [
    "from sklearn.metrics import r2_score\n",
    "\n",
    "class DataPreProcessor:\n",
    "    \"\"\"Подготовка исходных данных\"\"\"\n",
    "    \n",
    "    def __init__(self):\n",
    "        self.rooms_median = None\n",
    "        self.square_quantile_99 = None\n",
    "        self.kitchen_square_median = None\n",
    "        self.kitchen_square_quantile_99 = None\n",
    "        self.house_floor_mode = None\n",
    "        self.medians = None\n",
    "        \n",
    "    def fit(self, df):\n",
    "        self.rooms_median = df['Rooms'].median()\n",
    "        #print(\"self.rooms_median\", self.rooms_median)\n",
    "        self.square_quantile_99 = df['Square'].quantile(0.99)\n",
    "        #print(\"self.square_quantile_99\", self.square_quantile_99)\n",
    "        self.kitchen_square_median = df['KitchenSquare'].median()\n",
    "        #print(\"self.kitchen_square_median\", self.kitchen_square_median)\n",
    "        self.kitchen_square_quantile_99 = df['KitchenSquare'].quantile(.990)\n",
    "        #print(\"self.rooms_median\", self.kitchen_square_quantile_99)\n",
    "        self.house_floor_median =  df['HouseFloor'].median()\n",
    "        #print(\"self.house_floor_median\", self.house_floor_median)\n",
    "        self.medians = df.median()\n",
    "        \n",
    "    def transform(self, df, y_target=None):            \n",
    "        df = self.outlier_Rooms(df)\n",
    "        df = self.outlier_Square(df)\n",
    "        df = self.outlier_KitchenSquare(df)\n",
    "        df = self.outlier_HouseFloor(df)\n",
    "        df = self.outlier_Floor(df)        \n",
    "        df = self.outlier_HouseYear(df)                \n",
    "        df = self.predict_HealthCare_1(df, y_target)\n",
    "        df = self.fillna_LifeSquare(df)\n",
    "        #df = self.predict_LifeSquare(df, y_target)\n",
    "        return df\n",
    "       \n",
    "    def outlier_Rooms(self, df):\n",
    "        # Те значения, где кол-во комнат указано 0, примем за 1\n",
    "        df.loc[df['Rooms'] == 0, 'Rooms'] = 1\n",
    "        # Все остальные выборосы - где кол-во комнат больше 6, заменим на медиану       \n",
    "        df.loc[df['Rooms'] >= 6, 'Rooms'] = self.medians.Rooms        \n",
    "        df['Rooms'].fillna(self.medians.Rooms, inplace=True)\n",
    "        return df\n",
    "    \n",
    "    def outlier_Square(self, df):        \n",
    "        # Все значения, которые выходят за квантиль, заменим на значение этого квантиля        \n",
    "        condition = df['Square'] > self.square_quantile_99         \n",
    "        df.loc[condition, 'Square'] = self.square_quantile_99        \n",
    "        # !Идея - заменить на среднее значение между квантилем и этим значением\n",
    "        #df.loc[condition, 'Square'] = (self.square_quantile_99 + df.loc[condition, 'Square'])/2        \n",
    "        # Все площади, что меньше 25 (их мало) меняем на 25\n",
    "        df.loc[df['Square'] < 25, 'Square'] = 25              \n",
    "        return df\n",
    "    \n",
    "    def outlier_KitchenSquare(self, df):\n",
    "        # Те значения, где площадь кухни 1970 и 2014 - явные выбросы, заменим их на медиану        \n",
    "        df.loc[df['KitchenSquare'] == 1970, 'KitchenSquare'] = self.kitchen_square_median\n",
    "        df.loc[df['KitchenSquare'] == 2014, 'KitchenSquare'] = self.kitchen_square_median        \n",
    "        # Значения 0, 1 - нереальные, кухня не может быть 0 или 1 м, поэтому все такие кухни пусть будут 2м        \n",
    "        df.loc[df['KitchenSquare'] < 2, 'KitchenSquare'] = 2        \n",
    "        # Все большие значения (их мало) - тоже выбросы, заменим их на 99й квантиль        \n",
    "        condition = df['KitchenSquare'] > self.kitchen_square_quantile_99        \n",
    "        df.loc[condition, 'KitchenSquare'] = self.kitchen_square_quantile_99\n",
    "        return df\n",
    "    \n",
    "    def outlier_HouseFloor(self, df):        \n",
    "        # Допустим, сделали опечатку при записи 117 и 99 этажей.\n",
    "        df.loc[train_df['HouseFloor'] == 117, 'HouseFloor'] = 17        \n",
    "        df.loc[train_df['HouseFloor'] == 99, 'HouseFloor'] = 9        \n",
    "        # все нулевые заменим на медиану       \n",
    "        df.loc[df['HouseFloor'] == 0, 'HouseFloor'] = self.house_floor_median\n",
    "        return df\n",
    "    \n",
    "    def outlier_Floor(self, df):\n",
    "        # найдем индексы тех строк, где этаж квартиры превышает этажность дома\n",
    "        floor_outliers = df.loc[df['Floor'] > df['HouseFloor']].index\n",
    "        # И заменим на значение, не превыщающее этажность дома\n",
    "        df.loc[floor_outliers, 'Floor'] = df.loc[floor_outliers, 'HouseFloor'].apply(lambda x: random.randint(1, x))\n",
    "        return df\n",
    "    \n",
    "    def outlier_HouseYear(self, df):\n",
    "        # Явные выбросы\n",
    "        df.loc[df['HouseYear'] == 20052011, 'HouseYear'] = 2011\n",
    "        df.loc[df['HouseYear'] == 4968, 'HouseYear'] = 1968\n",
    "        # Все постройки ранее 1950 года обозначим как 1950\n",
    "        df.loc[df['HouseYear'] < 1950, 'HouseYear'] = 1950\n",
    "        df.loc[df['HouseYear'] > 2022, 'HouseYear'] = 2022\n",
    "        return df\n",
    "        \n",
    "    # Предсказывает пропущенные значения для переменной HealthCare_1\n",
    "    def predict_HealthCare_1(self, df, y_target=None):        \n",
    "        # Часть столбцов возьмем для предсказания, а часть сохраним отдельно, чтобы потом их присоединить обратно\n",
    "        columns_dropped = ['Id', 'DistrictId', 'LifeSquare', 'Ecology_2', 'Ecology_3', 'Shops_2']\n",
    "        df_dropped = df[columns_dropped]\n",
    "        columns_predict_Healthcare_1 = ['Id', 'Rooms', 'Square', 'KitchenSquare', 'Floor', 'HouseFloor', 'HouseYear', \n",
    "                                        'Ecology_1', 'Social_1', 'Social_2', 'Social_3', 'Helthcare_2', 'Shops_1']\n",
    "        if y_target is not None:\n",
    "            df[\"Price\"] = y_target\n",
    "            columns_predict_Healthcare_1 =  columns_predict_Healthcare_1 + [\"Price\"]\n",
    "        \n",
    "        # Выборка с заполненными значениями Healthcare_1. На ней будем строить модель и обучаться\n",
    "        train_df_Healthcare_1 = df.loc[df['Healthcare_1'].notna(), columns_predict_Healthcare_1 + ['Healthcare_1']]\n",
    "       \n",
    "        # Выборка с пустыми значениями Healthcare_1. Для нее будем предсказывать Healthcare_1\n",
    "        test_df_Healthcare_1 = df.loc[df['Healthcare_1'].isna(), columns_predict_Healthcare_1 + ['Healthcare_1']]\n",
    "       \n",
    "        # Сохраним столбец Id для тренировочной выборки, чтобы потом его вернуть обратно в том же виде\n",
    "        train_df_Healthcare_1_Id = train_df_Healthcare_1['Id']\n",
    "        # В качестве тренировочной выборки оставим все поля, кроме целевого и поля 'Id'\n",
    "        X_hc = train_df_Healthcare_1.drop(columns=['Id', 'Healthcare_1'])        \n",
    "        # В качестве целевых значений - наше поле 'Healthcare_1'\n",
    "        y_hc = train_df_Healthcare_1['Healthcare_1']\n",
    "\n",
    "        # Здесь собственно обучение модели и предсказание на валидационном датасете\n",
    "        # Разобьем датасет с известными значениями Healthcare_1 на тренировочную и валидационную выборку\n",
    "        # Валидационная выборка нужна, чтобы убедиться, что модель работает хорошо\n",
    "        # и в случае необходимости подобрать оптимальные параметры        \n",
    "        X_train_hc, X_valid_hc, y_train_hc, y_valid_hc = train_test_split(X_hc, y_hc, test_size=0.25, shuffle=True, random_state=21)\n",
    "                  \n",
    "        rf_model = RandomForestRegressor(random_state=21, criterion='mse')\n",
    "        rf_model.fit(X_train_hc, y_train_hc)\n",
    "        \n",
    "        # предскажем значения целевой переменной для тренировочных данных\n",
    "        y_train_preds = rf_model.predict(X_train_hc)\n",
    "        # и конечно для валидационных данных\n",
    "        y_valid_preds = rf_model.predict(X_valid_hc)\n",
    "        \n",
    "        # Посчитаем метрики r2_score для тренировочных и валидационных данных \n",
    "        r2_train = round(r2_score(y_train_hc, y_train_preds), 3)\n",
    "        r2_valid = round(r2_score(y_valid_hc, y_valid_preds), 3)        \n",
    "        #print(\"R2 train: \", r2_train)\n",
    "        #print(\"R2 valid: \", r2_valid)\n",
    "        \n",
    "        # ! Обучим модель на всех данных\n",
    "        rf_model.fit(X_hc, y_hc)\n",
    "        y_train_preds_all = rf_model.predict(X_hc)\n",
    "        r2_all = round(r2_score(y_hc,  y_train_preds_all), 3)\n",
    "        #print(\"R2_all: \", r2_all)\n",
    "        \n",
    "        # ! Вот здесь суть - модель предсказывает недостающие значения поля Healthcare_1\n",
    "        # Сохраним столбец Id для тестовой выборки, чтобы потом его вернуть обратно в том же виде\n",
    "        test_df_Healthcare_1_Id = test_df_Healthcare_1['Id']\n",
    "        test_df_Healthcare_1 = test_df_Healthcare_1.drop(columns=['Id', 'Healthcare_1'])\n",
    "        # Предсказание Healthcare_1\n",
    "        test_df_Healthcare_1['Healthcare_1'] = rf_model.predict(test_df_Healthcare_1)\n",
    "\n",
    "        # После того, как пустые значения Healthcare_1 предсказаны, можно обратно соединять датасеты\n",
    "        # Сначала вернем обратно поля Id в каждую выборку\n",
    "        train_df_Healthcare_1['Id'] = train_df_Healthcare_1_Id        \n",
    "        test_df_Healthcare_1['Id'] = test_df_Healthcare_1_Id\n",
    "        # !!! Чтобы столбцы были одинаково расположены, чтобы данные не съехали при соединении\n",
    "        test_df_Healthcare_1 = test_df_Healthcare_1[train_df_Healthcare_1.columns]\n",
    "       \n",
    "        # Соединим по вертикали тренировочную и тестовую выборки       \n",
    "        df = pd.concat([train_df_Healthcare_1, test_df_Healthcare_1], axis=0)\n",
    "        \n",
    "        #!!!!!!!!!!!!!!!!!!!!!!! Надо вернуть, чтобы было в том же порядке, как и изначально\n",
    "        # В df_dropped - изначальный порядок по Id, поэтому при соединении должен получиться порядок как в df_dropped\n",
    "        # Также обратно присоединим остальные столбцы, которые не использовали для предсказания Healthcare_1       \n",
    "        df = df.merge(df_dropped, left_on='Id', right_on='Id', how='right')\n",
    "        if y_target is not None:\n",
    "            if 'Price' in df.columns:\n",
    "                df = df.drop(columns=['Price'])    \n",
    "                \n",
    "        # В итоге получаем точно такое же датасет, как на входе, только с заполненными значениями в поле Healthcare_1\n",
    "        return df\n",
    "       \n",
    "    # Заполняет пропущенные значения для переменной LifeSquare - разность общей площади и площади кухни \n",
    "    def fillna_LifeSquare(self, df):     \n",
    "        #print(\"LifeSquare NaN:\", df['LifeSquare'].isna().sum())\n",
    "        # Там где пустые значения, заполняем разностью площадей \n",
    "        df['LifeSquare'].fillna(df['Square'] - df['KitchenSquare'], inplace=True)  \n",
    "        \n",
    "        # Жилая площадь не может быть больше общей площади,\n",
    "        # Поэтому слишком большие значения жилой площади также заменим на разность\n",
    "        condition1 = df['LifeSquare'] > df['Square']\n",
    "        df.loc[condition1, 'LifeSquare'] = df.loc[condition1, 'Square'] - df.loc[condition1, 'KitchenSquare']        \n",
    "        \n",
    "        #print(\"LifeSquare NaN:\", df['LifeSquare'].isna().sum())        \n",
    "        return df  \n",
    "    \n",
    "    # Предсказывает пропущенные значения для переменной LifeSquare\n",
    "    def predict_LifeSquare(self, df, y_target=None):        \n",
    "        # Часть столбцов возьмем для предсказания, а часть сохраним отдельно, чтобы потом их присоединить обратно\n",
    "        columns_dropped = ['Id', 'DistrictId', 'Ecology_2', 'Ecology_3', 'Shops_2']\n",
    "        df_dropped = df[columns_dropped]\n",
    "        columns_predict = ['Id', 'Rooms', 'Square', 'KitchenSquare', 'Floor', 'HouseFloor', 'HouseYear', \n",
    "                           'Ecology_1', 'Social_1', 'Social_2', 'Social_3', 'Healthcare_1', 'Helthcare_2', 'Shops_1']\n",
    "        #if y_target is not None:\n",
    "        #    df[\"Price\"] = y_target\n",
    "        #    columns_predict =  columns_predict + [\"Price\"]\n",
    "        \n",
    "        # Выборка с заполненными значениями LifeSquare. На ней будем строить модель и обучаться\n",
    "        train_df_LifeSquare = df.loc[df['LifeSquare'].notna(), columns_predict + ['LifeSquare']]\n",
    "       \n",
    "        # Выборка с пустыми значениями LifeSquare. Для нее будем предсказывать LifeSquare\n",
    "        test_df_LifeSquare = df.loc[df['LifeSquare'].isna(), columns_predict + ['LifeSquare']]\n",
    "       \n",
    "        # Сохраним столбец Id для тренировочной выборки, чтобы потом его вернуть обратно в том же виде\n",
    "        train_df_LifeSquare_Id = train_df_LifeSquare['Id']\n",
    "        # В качестве тренировочной выборки оставим все поля, кроме целевого и поля 'Id'\n",
    "        X_ls = train_df_LifeSquare.drop(columns=['Id', 'LifeSquare'])        \n",
    "        # В качестве целевых значений - наше поле 'Healthcare_1'\n",
    "        y_ls = train_df_LifeSquare['LifeSquare']\n",
    "\n",
    "        # Здесь собственно обучение модели и предсказание на валидационном датасете\n",
    "        # Разобьем датасет с известными значениями Healthcare_1 на тренировочную и валидационную выборку\n",
    "        # Валидационная выборка нужна, чтобы убедиться, что модель работает хорошо\n",
    "        # и в случае необходимости подобрать оптимальные параметры        \n",
    "        X_train_ls, X_valid_ls, y_train_ls, y_valid_ls = train_test_split(X_ls, y_ls, test_size=0.25, shuffle=True, random_state=21)\n",
    "                  \n",
    "        rf_model = RandomForestRegressor(random_state=21, criterion='mse')\n",
    "        rf_model.fit(X_train_ls, y_train_ls)\n",
    "        \n",
    "        # предскажем значения целевой переменной для тренировочных данных\n",
    "        y_train_preds = rf_model.predict(X_train_ls)\n",
    "        # и конечно для валидационных данных\n",
    "        y_valid_preds = rf_model.predict(X_valid_ls)\n",
    "        \n",
    "        # Посчитаем метрики r2_score для тренировочных и валидационных данных \n",
    "        r2_train = round(r2_score(y_train_ls, y_train_preds), 3)\n",
    "        r2_valid = round(r2_score(y_valid_ls, y_valid_preds), 3)        \n",
    "        #print(\"R2 train: \", r2_train)\n",
    "        #print(\"R2 valid: \", r2_valid)\n",
    "        \n",
    "        # ! Обучим модель на всех данных\n",
    "        rf_model.fit(X_ls, y_ls)\n",
    "        y_train_preds_all = rf_model.predict(X_ls)\n",
    "        r2_all = round(r2_score(y_ls,  y_train_preds_all), 3)\n",
    "        #print(\"R2_all: \", r2_all)\n",
    "        \n",
    "        # ! Вот здесь суть - модель предсказывает недостающие значения поля LifeSquare\n",
    "        # Сохраним столбец Id для тестовой выборки, чтобы потом его вернуть обратно в том же виде\n",
    "        test_df_LifeSquare_Id = test_df_LifeSquare['Id']\n",
    "        test_df_LifeSquare = test_df_LifeSquare.drop(columns=['Id', 'LifeSquare'])\n",
    "        # Предсказание Healthcare_1\n",
    "        test_df_LifeSquare['LifeSquare'] = rf_model.predict(test_df_LifeSquare)\n",
    "\n",
    "        # После того, как пустые значения LifeSquare предсказаны, можно обратно соединять датасеты\n",
    "        # Сначала вернем обратно поля Id в каждую выборку\n",
    "        train_df_LifeSquare['Id'] = train_df_LifeSquare_Id        \n",
    "        test_df_LifeSquare['Id'] = test_df_LifeSquare_Id\n",
    "        # !!! Чтобы столбцы были одинаково расположены, чтобы данные не съехали при соединении\n",
    "        test_df_LifeSquare = test_df_LifeSquare[train_df_LifeSquare.columns]\n",
    "       \n",
    "        # Соединим по вертикали тренировочную и тестовую выборки       \n",
    "        df = pd.concat([train_df_LifeSquare, test_df_LifeSquare], axis=0)\n",
    "        \n",
    "        #!!!!!!!!!!!!!!!!!!!!!!! Надо вернуть, чтобы было в том же порядке, как и изначально\n",
    "        # В df_dropped - изначальный порядок по Id, поэтому при соединении должен получиться порядок как в df_dropped\n",
    "        # Также обратно присоединим остальные столбцы, которые не использовали для предсказания LifeSquare  \n",
    "        df = df.merge(df_dropped, left_on='Id', right_on='Id', how='right')\n",
    "        if y_target is not None:\n",
    "            if 'Price' in df.columns:\n",
    "                df = df.drop(columns=['Price'])    \n",
    "        \n",
    "        # Жилая площадь не может быть больше общей площади,\n",
    "        # Поэтому слишком большие значения жилой площади также заменим на разность\n",
    "        condition1 = df['LifeSquare'] > df['Square']\n",
    "        df.loc[condition1, 'LifeSquare'] = df.loc[condition1, 'Square'] - df.loc[condition1, 'KitchenSquare']   \n",
    "        \n",
    "        # В итоге получаем точно такое же датасет, как на входе, только с заполненными значениями в поле Healthcare_1\n",
    "        return df\n",
    "   "
   ]
  },
  {
   "cell_type": "markdown",
   "id": "95959ecf",
   "metadata": {},
   "source": [
    "## 2. Добавление новых фич"
   ]
  },
  {
   "cell_type": "markdown",
   "id": "c2c4f8d9",
   "metadata": {},
   "source": [
    "### Dummy-признаки"
   ]
  },
  {
   "cell_type": "code",
   "execution_count": 69,
   "id": "3be9ce9b",
   "metadata": {},
   "outputs": [],
   "source": [
    "#binary_to_numbers = {'A': 0, 'B': 1}\n",
    "#binary_to_numbers = {0: 'A', 1:'B' }\n",
    "#train_df['Ecology_2'] = train_df['Ecology_2'].replace(binary_to_numbers)\n",
    "#train_df['Ecology_3'] = train_df['Ecology_3'].replace(binary_to_numbers)\n",
    "#train_df['Shops_2'] = train_df['Shops_2'].replace(binary_to_numbers)"
   ]
  },
  {
   "cell_type": "code",
   "execution_count": 70,
   "id": "8295acb3",
   "metadata": {},
   "outputs": [],
   "source": [
    "# Добавим dummy-признаки для категориальных переменных\n",
    "train_df = pd.concat([train_df, pd.get_dummies(train_df[['Ecology_2', 'Ecology_3', 'Shops_2' ]])], axis=1) \n",
    "# Исходные признаки удалим\n",
    "#train_df.drop(['Ecology_2', 'Ecology_3', 'Shops_2' ], axis=1, inplace=True)\n",
    "# Или по другому - отфильтровать ненужные столбцы\n",
    "# код можно запускать несколько раз и не будет ошибки\n",
    "train_df = train_df[train_df.columns[~train_df.columns.isin(['Ecology_2', 'Ecology_3', 'Shops_2'])]]"
   ]
  },
  {
   "cell_type": "markdown",
   "id": "06830536",
   "metadata": {},
   "source": [
    "### Новые признаки DistrictSize, IsDistrictLarge"
   ]
  },
  {
   "cell_type": "code",
   "execution_count": 71,
   "id": "d4748e20",
   "metadata": {},
   "outputs": [
    {
     "data": {
      "text/html": [
       "<div>\n",
       "<style scoped>\n",
       "    .dataframe tbody tr th:only-of-type {\n",
       "        vertical-align: middle;\n",
       "    }\n",
       "\n",
       "    .dataframe tbody tr th {\n",
       "        vertical-align: top;\n",
       "    }\n",
       "\n",
       "    .dataframe thead th {\n",
       "        text-align: right;\n",
       "    }\n",
       "</style>\n",
       "<table border=\"1\" class=\"dataframe\">\n",
       "  <thead>\n",
       "    <tr style=\"text-align: right;\">\n",
       "      <th></th>\n",
       "      <th>DistrictId</th>\n",
       "      <th>DistrictSize</th>\n",
       "    </tr>\n",
       "  </thead>\n",
       "  <tbody>\n",
       "    <tr>\n",
       "      <th>0</th>\n",
       "      <td>27</td>\n",
       "      <td>851</td>\n",
       "    </tr>\n",
       "    <tr>\n",
       "      <th>1</th>\n",
       "      <td>1</td>\n",
       "      <td>652</td>\n",
       "    </tr>\n",
       "    <tr>\n",
       "      <th>2</th>\n",
       "      <td>23</td>\n",
       "      <td>565</td>\n",
       "    </tr>\n",
       "    <tr>\n",
       "      <th>3</th>\n",
       "      <td>6</td>\n",
       "      <td>511</td>\n",
       "    </tr>\n",
       "    <tr>\n",
       "      <th>4</th>\n",
       "      <td>9</td>\n",
       "      <td>294</td>\n",
       "    </tr>\n",
       "    <tr>\n",
       "      <th>...</th>\n",
       "      <td>...</td>\n",
       "      <td>...</td>\n",
       "    </tr>\n",
       "    <tr>\n",
       "      <th>200</th>\n",
       "      <td>199</td>\n",
       "      <td>1</td>\n",
       "    </tr>\n",
       "    <tr>\n",
       "      <th>201</th>\n",
       "      <td>117</td>\n",
       "      <td>1</td>\n",
       "    </tr>\n",
       "    <tr>\n",
       "      <th>202</th>\n",
       "      <td>207</td>\n",
       "      <td>1</td>\n",
       "    </tr>\n",
       "    <tr>\n",
       "      <th>203</th>\n",
       "      <td>209</td>\n",
       "      <td>1</td>\n",
       "    </tr>\n",
       "    <tr>\n",
       "      <th>204</th>\n",
       "      <td>174</td>\n",
       "      <td>1</td>\n",
       "    </tr>\n",
       "  </tbody>\n",
       "</table>\n",
       "<p>205 rows × 2 columns</p>\n",
       "</div>"
      ],
      "text/plain": [
       "     DistrictId  DistrictSize\n",
       "0            27           851\n",
       "1             1           652\n",
       "2            23           565\n",
       "3             6           511\n",
       "4             9           294\n",
       "..          ...           ...\n",
       "200         199             1\n",
       "201         117             1\n",
       "202         207             1\n",
       "203         209             1\n",
       "204         174             1\n",
       "\n",
       "[205 rows x 2 columns]"
      ]
     },
     "execution_count": 71,
     "metadata": {},
     "output_type": "execute_result"
    }
   ],
   "source": [
    "# Каждому району поставим в соответствие количество квартир в нем\n",
    "district_size = train_df['DistrictId'].value_counts().reset_index().rename(columns={'index':'DistrictId', 'DistrictId':'DistrictSize'})\n",
    "district_size"
   ]
  },
  {
   "cell_type": "code",
   "execution_count": 72,
   "id": "8e986fc4",
   "metadata": {},
   "outputs": [
    {
     "data": {
      "text/html": [
       "<div>\n",
       "<style scoped>\n",
       "    .dataframe tbody tr th:only-of-type {\n",
       "        vertical-align: middle;\n",
       "    }\n",
       "\n",
       "    .dataframe tbody tr th {\n",
       "        vertical-align: top;\n",
       "    }\n",
       "\n",
       "    .dataframe thead th {\n",
       "        text-align: right;\n",
       "    }\n",
       "</style>\n",
       "<table border=\"1\" class=\"dataframe\">\n",
       "  <thead>\n",
       "    <tr style=\"text-align: right;\">\n",
       "      <th></th>\n",
       "      <th>Id</th>\n",
       "      <th>DistrictId</th>\n",
       "      <th>Rooms</th>\n",
       "      <th>Square</th>\n",
       "      <th>LifeSquare</th>\n",
       "      <th>KitchenSquare</th>\n",
       "      <th>Floor</th>\n",
       "      <th>HouseFloor</th>\n",
       "      <th>HouseYear</th>\n",
       "      <th>Ecology_1</th>\n",
       "      <th>...</th>\n",
       "      <th>Shops_1</th>\n",
       "      <th>Price</th>\n",
       "      <th>HouseFloor_outlier</th>\n",
       "      <th>Ecology_2_A</th>\n",
       "      <th>Ecology_2_B</th>\n",
       "      <th>Ecology_3_A</th>\n",
       "      <th>Ecology_3_B</th>\n",
       "      <th>Shops_2_A</th>\n",
       "      <th>Shops_2_B</th>\n",
       "      <th>DistrictSize</th>\n",
       "    </tr>\n",
       "  </thead>\n",
       "  <tbody>\n",
       "    <tr>\n",
       "      <th>0</th>\n",
       "      <td>11809</td>\n",
       "      <td>27</td>\n",
       "      <td>3.0</td>\n",
       "      <td>115.027311</td>\n",
       "      <td>NaN</td>\n",
       "      <td>10.0</td>\n",
       "      <td>4</td>\n",
       "      <td>10.0</td>\n",
       "      <td>2014</td>\n",
       "      <td>0.075424</td>\n",
       "      <td>...</td>\n",
       "      <td>0</td>\n",
       "      <td>305018.871089</td>\n",
       "      <td>0</td>\n",
       "      <td>0</td>\n",
       "      <td>1</td>\n",
       "      <td>0</td>\n",
       "      <td>1</td>\n",
       "      <td>0</td>\n",
       "      <td>1</td>\n",
       "      <td>851</td>\n",
       "    </tr>\n",
       "    <tr>\n",
       "      <th>1</th>\n",
       "      <td>3013</td>\n",
       "      <td>22</td>\n",
       "      <td>1.0</td>\n",
       "      <td>39.832524</td>\n",
       "      <td>23.169223</td>\n",
       "      <td>8.0</td>\n",
       "      <td>7</td>\n",
       "      <td>8.0</td>\n",
       "      <td>1966</td>\n",
       "      <td>0.118537</td>\n",
       "      <td>...</td>\n",
       "      <td>0</td>\n",
       "      <td>177734.553407</td>\n",
       "      <td>0</td>\n",
       "      <td>0</td>\n",
       "      <td>1</td>\n",
       "      <td>0</td>\n",
       "      <td>1</td>\n",
       "      <td>0</td>\n",
       "      <td>1</td>\n",
       "      <td>78</td>\n",
       "    </tr>\n",
       "    <tr>\n",
       "      <th>2</th>\n",
       "      <td>8215</td>\n",
       "      <td>1</td>\n",
       "      <td>3.0</td>\n",
       "      <td>78.342215</td>\n",
       "      <td>47.671972</td>\n",
       "      <td>10.0</td>\n",
       "      <td>2</td>\n",
       "      <td>17.0</td>\n",
       "      <td>1988</td>\n",
       "      <td>0.025609</td>\n",
       "      <td>...</td>\n",
       "      <td>1</td>\n",
       "      <td>282078.720850</td>\n",
       "      <td>0</td>\n",
       "      <td>0</td>\n",
       "      <td>1</td>\n",
       "      <td>0</td>\n",
       "      <td>1</td>\n",
       "      <td>0</td>\n",
       "      <td>1</td>\n",
       "      <td>652</td>\n",
       "    </tr>\n",
       "    <tr>\n",
       "      <th>3</th>\n",
       "      <td>2352</td>\n",
       "      <td>1</td>\n",
       "      <td>1.0</td>\n",
       "      <td>40.409907</td>\n",
       "      <td>NaN</td>\n",
       "      <td>2.0</td>\n",
       "      <td>10</td>\n",
       "      <td>22.0</td>\n",
       "      <td>1977</td>\n",
       "      <td>0.007122</td>\n",
       "      <td>...</td>\n",
       "      <td>1</td>\n",
       "      <td>168106.007630</td>\n",
       "      <td>0</td>\n",
       "      <td>0</td>\n",
       "      <td>1</td>\n",
       "      <td>0</td>\n",
       "      <td>1</td>\n",
       "      <td>0</td>\n",
       "      <td>1</td>\n",
       "      <td>652</td>\n",
       "    </tr>\n",
       "    <tr>\n",
       "      <th>4</th>\n",
       "      <td>13866</td>\n",
       "      <td>94</td>\n",
       "      <td>2.0</td>\n",
       "      <td>64.285067</td>\n",
       "      <td>38.562517</td>\n",
       "      <td>9.0</td>\n",
       "      <td>16</td>\n",
       "      <td>16.0</td>\n",
       "      <td>1972</td>\n",
       "      <td>0.282798</td>\n",
       "      <td>...</td>\n",
       "      <td>6</td>\n",
       "      <td>343995.102962</td>\n",
       "      <td>0</td>\n",
       "      <td>0</td>\n",
       "      <td>1</td>\n",
       "      <td>0</td>\n",
       "      <td>1</td>\n",
       "      <td>0</td>\n",
       "      <td>1</td>\n",
       "      <td>89</td>\n",
       "    </tr>\n",
       "  </tbody>\n",
       "</table>\n",
       "<p>5 rows × 25 columns</p>\n",
       "</div>"
      ],
      "text/plain": [
       "      Id  DistrictId  Rooms      Square  LifeSquare  KitchenSquare  Floor  \\\n",
       "0  11809          27    3.0  115.027311         NaN           10.0      4   \n",
       "1   3013          22    1.0   39.832524   23.169223            8.0      7   \n",
       "2   8215           1    3.0   78.342215   47.671972           10.0      2   \n",
       "3   2352           1    1.0   40.409907         NaN            2.0     10   \n",
       "4  13866          94    2.0   64.285067   38.562517            9.0     16   \n",
       "\n",
       "   HouseFloor  HouseYear  Ecology_1  ...  Shops_1          Price  \\\n",
       "0        10.0       2014   0.075424  ...        0  305018.871089   \n",
       "1         8.0       1966   0.118537  ...        0  177734.553407   \n",
       "2        17.0       1988   0.025609  ...        1  282078.720850   \n",
       "3        22.0       1977   0.007122  ...        1  168106.007630   \n",
       "4        16.0       1972   0.282798  ...        6  343995.102962   \n",
       "\n",
       "   HouseFloor_outlier  Ecology_2_A  Ecology_2_B  Ecology_3_A  Ecology_3_B  \\\n",
       "0                   0            0            1            0            1   \n",
       "1                   0            0            1            0            1   \n",
       "2                   0            0            1            0            1   \n",
       "3                   0            0            1            0            1   \n",
       "4                   0            0            1            0            1   \n",
       "\n",
       "   Shops_2_A  Shops_2_B  DistrictSize  \n",
       "0          0          1           851  \n",
       "1          0          1            78  \n",
       "2          0          1           652  \n",
       "3          0          1           652  \n",
       "4          0          1            89  \n",
       "\n",
       "[5 rows x 25 columns]"
      ]
     },
     "execution_count": 72,
     "metadata": {},
     "output_type": "execute_result"
    }
   ],
   "source": [
    "# Добавим новый признак к нашему датасету\n",
    "train_df = train_df.merge(district_size, on='DistrictId', how='left')\n",
    "train_df.head()"
   ]
  },
  {
   "cell_type": "code",
   "execution_count": 73,
   "id": "bde0206d",
   "metadata": {},
   "outputs": [
    {
     "data": {
      "text/plain": [
       "True     5069\n",
       "False    4931\n",
       "Name: DistrictSize, dtype: int64"
      ]
     },
     "execution_count": 73,
     "metadata": {},
     "output_type": "execute_result"
    }
   ],
   "source": [
    "(train_df['DistrictSize'] > 100).value_counts()"
   ]
  },
  {
   "cell_type": "code",
   "execution_count": 74,
   "id": "54e8649f",
   "metadata": {},
   "outputs": [],
   "source": [
    "# IsDistrictLarge - район обозначим как большой, если в нем больше 100 квартир\n",
    "train_df['IsDistrictLarge'] = (train_df['DistrictSize'] > 100).astype(int)"
   ]
  },
  {
   "cell_type": "code",
   "execution_count": 75,
   "id": "a9d2c4c8",
   "metadata": {},
   "outputs": [
    {
     "data": {
      "text/html": [
       "<div>\n",
       "<style scoped>\n",
       "    .dataframe tbody tr th:only-of-type {\n",
       "        vertical-align: middle;\n",
       "    }\n",
       "\n",
       "    .dataframe tbody tr th {\n",
       "        vertical-align: top;\n",
       "    }\n",
       "\n",
       "    .dataframe thead th {\n",
       "        text-align: right;\n",
       "    }\n",
       "</style>\n",
       "<table border=\"1\" class=\"dataframe\">\n",
       "  <thead>\n",
       "    <tr style=\"text-align: right;\">\n",
       "      <th></th>\n",
       "      <th>Id</th>\n",
       "      <th>DistrictId</th>\n",
       "      <th>Rooms</th>\n",
       "      <th>Square</th>\n",
       "      <th>LifeSquare</th>\n",
       "      <th>KitchenSquare</th>\n",
       "      <th>Floor</th>\n",
       "      <th>HouseFloor</th>\n",
       "      <th>HouseYear</th>\n",
       "      <th>Ecology_1</th>\n",
       "      <th>...</th>\n",
       "      <th>Price</th>\n",
       "      <th>HouseFloor_outlier</th>\n",
       "      <th>Ecology_2_A</th>\n",
       "      <th>Ecology_2_B</th>\n",
       "      <th>Ecology_3_A</th>\n",
       "      <th>Ecology_3_B</th>\n",
       "      <th>Shops_2_A</th>\n",
       "      <th>Shops_2_B</th>\n",
       "      <th>DistrictSize</th>\n",
       "      <th>IsDistrictLarge</th>\n",
       "    </tr>\n",
       "  </thead>\n",
       "  <tbody>\n",
       "    <tr>\n",
       "      <th>0</th>\n",
       "      <td>11809</td>\n",
       "      <td>27</td>\n",
       "      <td>3.0</td>\n",
       "      <td>115.027311</td>\n",
       "      <td>NaN</td>\n",
       "      <td>10.0</td>\n",
       "      <td>4</td>\n",
       "      <td>10.0</td>\n",
       "      <td>2014</td>\n",
       "      <td>0.075424</td>\n",
       "      <td>...</td>\n",
       "      <td>305018.871089</td>\n",
       "      <td>0</td>\n",
       "      <td>0</td>\n",
       "      <td>1</td>\n",
       "      <td>0</td>\n",
       "      <td>1</td>\n",
       "      <td>0</td>\n",
       "      <td>1</td>\n",
       "      <td>851</td>\n",
       "      <td>1</td>\n",
       "    </tr>\n",
       "    <tr>\n",
       "      <th>1</th>\n",
       "      <td>3013</td>\n",
       "      <td>22</td>\n",
       "      <td>1.0</td>\n",
       "      <td>39.832524</td>\n",
       "      <td>23.169223</td>\n",
       "      <td>8.0</td>\n",
       "      <td>7</td>\n",
       "      <td>8.0</td>\n",
       "      <td>1966</td>\n",
       "      <td>0.118537</td>\n",
       "      <td>...</td>\n",
       "      <td>177734.553407</td>\n",
       "      <td>0</td>\n",
       "      <td>0</td>\n",
       "      <td>1</td>\n",
       "      <td>0</td>\n",
       "      <td>1</td>\n",
       "      <td>0</td>\n",
       "      <td>1</td>\n",
       "      <td>78</td>\n",
       "      <td>0</td>\n",
       "    </tr>\n",
       "    <tr>\n",
       "      <th>2</th>\n",
       "      <td>8215</td>\n",
       "      <td>1</td>\n",
       "      <td>3.0</td>\n",
       "      <td>78.342215</td>\n",
       "      <td>47.671972</td>\n",
       "      <td>10.0</td>\n",
       "      <td>2</td>\n",
       "      <td>17.0</td>\n",
       "      <td>1988</td>\n",
       "      <td>0.025609</td>\n",
       "      <td>...</td>\n",
       "      <td>282078.720850</td>\n",
       "      <td>0</td>\n",
       "      <td>0</td>\n",
       "      <td>1</td>\n",
       "      <td>0</td>\n",
       "      <td>1</td>\n",
       "      <td>0</td>\n",
       "      <td>1</td>\n",
       "      <td>652</td>\n",
       "      <td>1</td>\n",
       "    </tr>\n",
       "    <tr>\n",
       "      <th>3</th>\n",
       "      <td>2352</td>\n",
       "      <td>1</td>\n",
       "      <td>1.0</td>\n",
       "      <td>40.409907</td>\n",
       "      <td>NaN</td>\n",
       "      <td>2.0</td>\n",
       "      <td>10</td>\n",
       "      <td>22.0</td>\n",
       "      <td>1977</td>\n",
       "      <td>0.007122</td>\n",
       "      <td>...</td>\n",
       "      <td>168106.007630</td>\n",
       "      <td>0</td>\n",
       "      <td>0</td>\n",
       "      <td>1</td>\n",
       "      <td>0</td>\n",
       "      <td>1</td>\n",
       "      <td>0</td>\n",
       "      <td>1</td>\n",
       "      <td>652</td>\n",
       "      <td>1</td>\n",
       "    </tr>\n",
       "    <tr>\n",
       "      <th>4</th>\n",
       "      <td>13866</td>\n",
       "      <td>94</td>\n",
       "      <td>2.0</td>\n",
       "      <td>64.285067</td>\n",
       "      <td>38.562517</td>\n",
       "      <td>9.0</td>\n",
       "      <td>16</td>\n",
       "      <td>16.0</td>\n",
       "      <td>1972</td>\n",
       "      <td>0.282798</td>\n",
       "      <td>...</td>\n",
       "      <td>343995.102962</td>\n",
       "      <td>0</td>\n",
       "      <td>0</td>\n",
       "      <td>1</td>\n",
       "      <td>0</td>\n",
       "      <td>1</td>\n",
       "      <td>0</td>\n",
       "      <td>1</td>\n",
       "      <td>89</td>\n",
       "      <td>0</td>\n",
       "    </tr>\n",
       "    <tr>\n",
       "      <th>...</th>\n",
       "      <td>...</td>\n",
       "      <td>...</td>\n",
       "      <td>...</td>\n",
       "      <td>...</td>\n",
       "      <td>...</td>\n",
       "      <td>...</td>\n",
       "      <td>...</td>\n",
       "      <td>...</td>\n",
       "      <td>...</td>\n",
       "      <td>...</td>\n",
       "      <td>...</td>\n",
       "      <td>...</td>\n",
       "      <td>...</td>\n",
       "      <td>...</td>\n",
       "      <td>...</td>\n",
       "      <td>...</td>\n",
       "      <td>...</td>\n",
       "      <td>...</td>\n",
       "      <td>...</td>\n",
       "      <td>...</td>\n",
       "      <td>...</td>\n",
       "    </tr>\n",
       "    <tr>\n",
       "      <th>9995</th>\n",
       "      <td>1260</td>\n",
       "      <td>61</td>\n",
       "      <td>2.0</td>\n",
       "      <td>49.090728</td>\n",
       "      <td>33.272626</td>\n",
       "      <td>6.0</td>\n",
       "      <td>3</td>\n",
       "      <td>12.0</td>\n",
       "      <td>1981</td>\n",
       "      <td>0.300323</td>\n",
       "      <td>...</td>\n",
       "      <td>119367.455796</td>\n",
       "      <td>0</td>\n",
       "      <td>0</td>\n",
       "      <td>1</td>\n",
       "      <td>0</td>\n",
       "      <td>1</td>\n",
       "      <td>0</td>\n",
       "      <td>1</td>\n",
       "      <td>118</td>\n",
       "      <td>1</td>\n",
       "    </tr>\n",
       "    <tr>\n",
       "      <th>9996</th>\n",
       "      <td>16265</td>\n",
       "      <td>27</td>\n",
       "      <td>2.0</td>\n",
       "      <td>64.307684</td>\n",
       "      <td>37.038420</td>\n",
       "      <td>9.0</td>\n",
       "      <td>13</td>\n",
       "      <td>NaN</td>\n",
       "      <td>1977</td>\n",
       "      <td>0.072158</td>\n",
       "      <td>...</td>\n",
       "      <td>199715.148807</td>\n",
       "      <td>0</td>\n",
       "      <td>0</td>\n",
       "      <td>1</td>\n",
       "      <td>0</td>\n",
       "      <td>1</td>\n",
       "      <td>1</td>\n",
       "      <td>0</td>\n",
       "      <td>851</td>\n",
       "      <td>1</td>\n",
       "    </tr>\n",
       "    <tr>\n",
       "      <th>9997</th>\n",
       "      <td>2795</td>\n",
       "      <td>178</td>\n",
       "      <td>1.0</td>\n",
       "      <td>29.648057</td>\n",
       "      <td>16.555363</td>\n",
       "      <td>5.0</td>\n",
       "      <td>3</td>\n",
       "      <td>5.0</td>\n",
       "      <td>1958</td>\n",
       "      <td>0.460556</td>\n",
       "      <td>...</td>\n",
       "      <td>165953.912580</td>\n",
       "      <td>0</td>\n",
       "      <td>0</td>\n",
       "      <td>1</td>\n",
       "      <td>0</td>\n",
       "      <td>1</td>\n",
       "      <td>0</td>\n",
       "      <td>1</td>\n",
       "      <td>7</td>\n",
       "      <td>0</td>\n",
       "    </tr>\n",
       "    <tr>\n",
       "      <th>9998</th>\n",
       "      <td>14561</td>\n",
       "      <td>21</td>\n",
       "      <td>1.0</td>\n",
       "      <td>32.330292</td>\n",
       "      <td>22.326870</td>\n",
       "      <td>5.0</td>\n",
       "      <td>3</td>\n",
       "      <td>9.0</td>\n",
       "      <td>1969</td>\n",
       "      <td>0.194489</td>\n",
       "      <td>...</td>\n",
       "      <td>171842.411855</td>\n",
       "      <td>0</td>\n",
       "      <td>0</td>\n",
       "      <td>1</td>\n",
       "      <td>0</td>\n",
       "      <td>1</td>\n",
       "      <td>0</td>\n",
       "      <td>1</td>\n",
       "      <td>165</td>\n",
       "      <td>1</td>\n",
       "    </tr>\n",
       "    <tr>\n",
       "      <th>9999</th>\n",
       "      <td>7202</td>\n",
       "      <td>94</td>\n",
       "      <td>1.0</td>\n",
       "      <td>35.815476</td>\n",
       "      <td>22.301367</td>\n",
       "      <td>6.0</td>\n",
       "      <td>9</td>\n",
       "      <td>9.0</td>\n",
       "      <td>1975</td>\n",
       "      <td>0.127376</td>\n",
       "      <td>...</td>\n",
       "      <td>177685.627486</td>\n",
       "      <td>0</td>\n",
       "      <td>0</td>\n",
       "      <td>1</td>\n",
       "      <td>0</td>\n",
       "      <td>1</td>\n",
       "      <td>0</td>\n",
       "      <td>1</td>\n",
       "      <td>89</td>\n",
       "      <td>0</td>\n",
       "    </tr>\n",
       "  </tbody>\n",
       "</table>\n",
       "<p>10000 rows × 26 columns</p>\n",
       "</div>"
      ],
      "text/plain": [
       "         Id  DistrictId  Rooms      Square  LifeSquare  KitchenSquare  Floor  \\\n",
       "0     11809          27    3.0  115.027311         NaN           10.0      4   \n",
       "1      3013          22    1.0   39.832524   23.169223            8.0      7   \n",
       "2      8215           1    3.0   78.342215   47.671972           10.0      2   \n",
       "3      2352           1    1.0   40.409907         NaN            2.0     10   \n",
       "4     13866          94    2.0   64.285067   38.562517            9.0     16   \n",
       "...     ...         ...    ...         ...         ...            ...    ...   \n",
       "9995   1260          61    2.0   49.090728   33.272626            6.0      3   \n",
       "9996  16265          27    2.0   64.307684   37.038420            9.0     13   \n",
       "9997   2795         178    1.0   29.648057   16.555363            5.0      3   \n",
       "9998  14561          21    1.0   32.330292   22.326870            5.0      3   \n",
       "9999   7202          94    1.0   35.815476   22.301367            6.0      9   \n",
       "\n",
       "      HouseFloor  HouseYear  Ecology_1  ...          Price  \\\n",
       "0           10.0       2014   0.075424  ...  305018.871089   \n",
       "1            8.0       1966   0.118537  ...  177734.553407   \n",
       "2           17.0       1988   0.025609  ...  282078.720850   \n",
       "3           22.0       1977   0.007122  ...  168106.007630   \n",
       "4           16.0       1972   0.282798  ...  343995.102962   \n",
       "...          ...        ...        ...  ...            ...   \n",
       "9995        12.0       1981   0.300323  ...  119367.455796   \n",
       "9996         NaN       1977   0.072158  ...  199715.148807   \n",
       "9997         5.0       1958   0.460556  ...  165953.912580   \n",
       "9998         9.0       1969   0.194489  ...  171842.411855   \n",
       "9999         9.0       1975   0.127376  ...  177685.627486   \n",
       "\n",
       "      HouseFloor_outlier  Ecology_2_A  Ecology_2_B  Ecology_3_A  Ecology_3_B  \\\n",
       "0                      0            0            1            0            1   \n",
       "1                      0            0            1            0            1   \n",
       "2                      0            0            1            0            1   \n",
       "3                      0            0            1            0            1   \n",
       "4                      0            0            1            0            1   \n",
       "...                  ...          ...          ...          ...          ...   \n",
       "9995                   0            0            1            0            1   \n",
       "9996                   0            0            1            0            1   \n",
       "9997                   0            0            1            0            1   \n",
       "9998                   0            0            1            0            1   \n",
       "9999                   0            0            1            0            1   \n",
       "\n",
       "      Shops_2_A  Shops_2_B  DistrictSize  IsDistrictLarge  \n",
       "0             0          1           851                1  \n",
       "1             0          1            78                0  \n",
       "2             0          1           652                1  \n",
       "3             0          1           652                1  \n",
       "4             0          1            89                0  \n",
       "...         ...        ...           ...              ...  \n",
       "9995          0          1           118                1  \n",
       "9996          1          0           851                1  \n",
       "9997          0          1             7                0  \n",
       "9998          0          1           165                1  \n",
       "9999          0          1            89                0  \n",
       "\n",
       "[10000 rows x 26 columns]"
      ]
     },
     "execution_count": 75,
     "metadata": {},
     "output_type": "execute_result"
    }
   ],
   "source": [
    "train_df"
   ]
  },
  {
   "cell_type": "markdown",
   "id": "a36cc36c",
   "metadata": {},
   "source": [
    "### MedianPriceByDistrict"
   ]
  },
  {
   "cell_type": "markdown",
   "id": "ea564b8e",
   "metadata": {},
   "source": [
    "Медиана цены квартиры для каждого района"
   ]
  },
  {
   "cell_type": "code",
   "execution_count": 76,
   "id": "52bac4e6",
   "metadata": {},
   "outputs": [
    {
     "data": {
      "text/plain": [
       "DistrictId               0\n",
       "Rooms                    0\n",
       "MedianPriceByDistrict    0\n",
       "dtype: int64"
      ]
     },
     "execution_count": 76,
     "metadata": {},
     "output_type": "execute_result"
    }
   ],
   "source": [
    "# Сгруппируем по району, и по количеству комнат в квартире: район - однушка, двушка, трешка и т.д.\n",
    "# И для каждой группы посчитаем медиану цены\n",
    "# И переименуем результат аггрегации в MedianPriceByDistrict\n",
    "median_price_by_district = train_df.groupby(['DistrictId', 'Rooms'], as_index=False).agg({'Price':'median'})\\\n",
    "                            .rename(columns={'Price':'MedianPriceByDistrict'})\n",
    "\n",
    "median_price_by_district.isna().sum()"
   ]
  },
  {
   "cell_type": "code",
   "execution_count": 77,
   "id": "a74cee72",
   "metadata": {},
   "outputs": [
    {
     "data": {
      "text/html": [
       "<div>\n",
       "<style scoped>\n",
       "    .dataframe tbody tr th:only-of-type {\n",
       "        vertical-align: middle;\n",
       "    }\n",
       "\n",
       "    .dataframe tbody tr th {\n",
       "        vertical-align: top;\n",
       "    }\n",
       "\n",
       "    .dataframe thead th {\n",
       "        text-align: right;\n",
       "    }\n",
       "</style>\n",
       "<table border=\"1\" class=\"dataframe\">\n",
       "  <thead>\n",
       "    <tr style=\"text-align: right;\">\n",
       "      <th></th>\n",
       "      <th>Id</th>\n",
       "      <th>DistrictId</th>\n",
       "      <th>Rooms</th>\n",
       "      <th>Square</th>\n",
       "      <th>LifeSquare</th>\n",
       "      <th>KitchenSquare</th>\n",
       "      <th>Floor</th>\n",
       "      <th>HouseFloor</th>\n",
       "      <th>HouseYear</th>\n",
       "      <th>Ecology_1</th>\n",
       "      <th>...</th>\n",
       "      <th>HouseFloor_outlier</th>\n",
       "      <th>Ecology_2_A</th>\n",
       "      <th>Ecology_2_B</th>\n",
       "      <th>Ecology_3_A</th>\n",
       "      <th>Ecology_3_B</th>\n",
       "      <th>Shops_2_A</th>\n",
       "      <th>Shops_2_B</th>\n",
       "      <th>DistrictSize</th>\n",
       "      <th>IsDistrictLarge</th>\n",
       "      <th>MedianPriceByDistrict</th>\n",
       "    </tr>\n",
       "  </thead>\n",
       "  <tbody>\n",
       "    <tr>\n",
       "      <th>0</th>\n",
       "      <td>11809</td>\n",
       "      <td>27</td>\n",
       "      <td>3.0</td>\n",
       "      <td>115.027311</td>\n",
       "      <td>NaN</td>\n",
       "      <td>10.0</td>\n",
       "      <td>4</td>\n",
       "      <td>10.0</td>\n",
       "      <td>2014</td>\n",
       "      <td>0.075424</td>\n",
       "      <td>...</td>\n",
       "      <td>0</td>\n",
       "      <td>0</td>\n",
       "      <td>1</td>\n",
       "      <td>0</td>\n",
       "      <td>1</td>\n",
       "      <td>0</td>\n",
       "      <td>1</td>\n",
       "      <td>851</td>\n",
       "      <td>1</td>\n",
       "      <td>213530.788443</td>\n",
       "    </tr>\n",
       "    <tr>\n",
       "      <th>1</th>\n",
       "      <td>3013</td>\n",
       "      <td>22</td>\n",
       "      <td>1.0</td>\n",
       "      <td>39.832524</td>\n",
       "      <td>23.169223</td>\n",
       "      <td>8.0</td>\n",
       "      <td>7</td>\n",
       "      <td>8.0</td>\n",
       "      <td>1966</td>\n",
       "      <td>0.118537</td>\n",
       "      <td>...</td>\n",
       "      <td>0</td>\n",
       "      <td>0</td>\n",
       "      <td>1</td>\n",
       "      <td>0</td>\n",
       "      <td>1</td>\n",
       "      <td>0</td>\n",
       "      <td>1</td>\n",
       "      <td>78</td>\n",
       "      <td>0</td>\n",
       "      <td>146032.829834</td>\n",
       "    </tr>\n",
       "    <tr>\n",
       "      <th>2</th>\n",
       "      <td>8215</td>\n",
       "      <td>1</td>\n",
       "      <td>3.0</td>\n",
       "      <td>78.342215</td>\n",
       "      <td>47.671972</td>\n",
       "      <td>10.0</td>\n",
       "      <td>2</td>\n",
       "      <td>17.0</td>\n",
       "      <td>1988</td>\n",
       "      <td>0.025609</td>\n",
       "      <td>...</td>\n",
       "      <td>0</td>\n",
       "      <td>0</td>\n",
       "      <td>1</td>\n",
       "      <td>0</td>\n",
       "      <td>1</td>\n",
       "      <td>0</td>\n",
       "      <td>1</td>\n",
       "      <td>652</td>\n",
       "      <td>1</td>\n",
       "      <td>244005.272380</td>\n",
       "    </tr>\n",
       "    <tr>\n",
       "      <th>3</th>\n",
       "      <td>2352</td>\n",
       "      <td>1</td>\n",
       "      <td>1.0</td>\n",
       "      <td>40.409907</td>\n",
       "      <td>NaN</td>\n",
       "      <td>2.0</td>\n",
       "      <td>10</td>\n",
       "      <td>22.0</td>\n",
       "      <td>1977</td>\n",
       "      <td>0.007122</td>\n",
       "      <td>...</td>\n",
       "      <td>0</td>\n",
       "      <td>0</td>\n",
       "      <td>1</td>\n",
       "      <td>0</td>\n",
       "      <td>1</td>\n",
       "      <td>0</td>\n",
       "      <td>1</td>\n",
       "      <td>652</td>\n",
       "      <td>1</td>\n",
       "      <td>146735.671740</td>\n",
       "    </tr>\n",
       "    <tr>\n",
       "      <th>4</th>\n",
       "      <td>13866</td>\n",
       "      <td>94</td>\n",
       "      <td>2.0</td>\n",
       "      <td>64.285067</td>\n",
       "      <td>38.562517</td>\n",
       "      <td>9.0</td>\n",
       "      <td>16</td>\n",
       "      <td>16.0</td>\n",
       "      <td>1972</td>\n",
       "      <td>0.282798</td>\n",
       "      <td>...</td>\n",
       "      <td>0</td>\n",
       "      <td>0</td>\n",
       "      <td>1</td>\n",
       "      <td>0</td>\n",
       "      <td>1</td>\n",
       "      <td>0</td>\n",
       "      <td>1</td>\n",
       "      <td>89</td>\n",
       "      <td>0</td>\n",
       "      <td>201584.441255</td>\n",
       "    </tr>\n",
       "  </tbody>\n",
       "</table>\n",
       "<p>5 rows × 27 columns</p>\n",
       "</div>"
      ],
      "text/plain": [
       "      Id  DistrictId  Rooms      Square  LifeSquare  KitchenSquare  Floor  \\\n",
       "0  11809          27    3.0  115.027311         NaN           10.0      4   \n",
       "1   3013          22    1.0   39.832524   23.169223            8.0      7   \n",
       "2   8215           1    3.0   78.342215   47.671972           10.0      2   \n",
       "3   2352           1    1.0   40.409907         NaN            2.0     10   \n",
       "4  13866          94    2.0   64.285067   38.562517            9.0     16   \n",
       "\n",
       "   HouseFloor  HouseYear  Ecology_1  ...  HouseFloor_outlier  Ecology_2_A  \\\n",
       "0        10.0       2014   0.075424  ...                   0            0   \n",
       "1         8.0       1966   0.118537  ...                   0            0   \n",
       "2        17.0       1988   0.025609  ...                   0            0   \n",
       "3        22.0       1977   0.007122  ...                   0            0   \n",
       "4        16.0       1972   0.282798  ...                   0            0   \n",
       "\n",
       "   Ecology_2_B  Ecology_3_A  Ecology_3_B  Shops_2_A  Shops_2_B  DistrictSize  \\\n",
       "0            1            0            1          0          1           851   \n",
       "1            1            0            1          0          1            78   \n",
       "2            1            0            1          0          1           652   \n",
       "3            1            0            1          0          1           652   \n",
       "4            1            0            1          0          1            89   \n",
       "\n",
       "   IsDistrictLarge  MedianPriceByDistrict  \n",
       "0                1          213530.788443  \n",
       "1                0          146032.829834  \n",
       "2                1          244005.272380  \n",
       "3                1          146735.671740  \n",
       "4                0          201584.441255  \n",
       "\n",
       "[5 rows x 27 columns]"
      ]
     },
     "execution_count": 77,
     "metadata": {},
     "output_type": "execute_result"
    }
   ],
   "source": [
    "# Добавим новый признак к нашему датасету\n",
    "train_df = train_df.merge(median_price_by_district, on=['DistrictId', 'Rooms'], how='left')\n",
    "train_df.head()"
   ]
  },
  {
   "cell_type": "code",
   "execution_count": 78,
   "id": "4d8024b3",
   "metadata": {},
   "outputs": [],
   "source": [
    "# Добавление всех новых фич\n",
    "class FeatureGenerator:\n",
    "    \"\"\"Добавление новых фич в датасет\"\"\"\n",
    "    \n",
    "    def __init__(self):\n",
    "        self.median_price_by_district = None\n",
    "        \n",
    "    def fit(self, X, y):\n",
    "        # Сгруппируем по району, и по количеству комнат в квартире: район - однушка, двушка, трешка и т.д.\n",
    "        # И для каждой группы посчитаем медиану цены\n",
    "        # И переименуем результат аггрегации в MedianPriceByDistrict\n",
    "        df = X.copy()\n",
    "        df['Price'] = y.values\n",
    "        self.median_price_by_district =  df.groupby(['DistrictId', 'Rooms'], as_index=False).agg({'Price':'median'})\\\n",
    "                            .rename(columns={'Price':'MedianPriceByDistrict'})        \n",
    "        \n",
    "    def transform(self, X):\n",
    "        X = self.add_dummies(X)\n",
    "        #X = self.add_DistrictSize(X)\n",
    "        #X = self.add_MedianPriceByDistrict(X)\n",
    "        return X\n",
    "    \n",
    "    def add_dummies(self, X):\n",
    "        # Добавим dummy-признаки для категориальных переменных\n",
    "        X = pd.concat([X, pd.get_dummies(X[['Ecology_2', 'Ecology_3', 'Shops_2' ]])], axis=1) \n",
    "        # Исходные признаки удалим\n",
    "        #X.drop(['Ecology_2', 'Ecology_3', 'Shops_2' ], axis=1, inplace=True)\n",
    "        # Или по другому - отфильтровать ненужные столбцы\n",
    "        # код можно запускать несколько раз и не будет ошибки\n",
    "        X = X[X.columns[~X.columns.isin(['Ecology_2', 'Ecology_3', 'Shops_2'])]]\n",
    "        return X\n",
    "    \n",
    "    def add_DistrictSize(self, X):\n",
    "        # Каждому району поставим в соответствие количество квартир в нем\n",
    "        # district_size - получится новый датасет с полями DistrictId, DistrictSize\n",
    "        district_size = X['DistrictId'].value_counts().reset_index().rename(columns={'index':'DistrictId', 'DistrictId':'DistrictSize'})\n",
    "        # Добавим новый признак к нашему датасету\n",
    "        X = X.merge(district_size, on='DistrictId', how='left')\n",
    "        # Также добавим признак IsDistrictLarge - район обозначим как большой, если в нем больше 100 квартир\n",
    "        X['IsDistrictLarge'] = (X['DistrictSize'] > 100).astype(int)\n",
    "        return X\n",
    "    \n",
    "    def add_MedianPriceByDistrict(self, X):        \n",
    "        # Добавим новый признак к нашему датасету\n",
    "        X = X.merge(self.median_price_by_district, on=['DistrictId', 'Rooms'], how='left')        \n",
    "        return X"
   ]
  },
  {
   "cell_type": "markdown",
   "id": "c6ac8f85",
   "metadata": {},
   "source": [
    "## 3. Обучение. Выбор модели"
   ]
  },
  {
   "cell_type": "markdown",
   "id": "ecc5f970",
   "metadata": {},
   "source": [
    "#### Разбиение на train и test"
   ]
  },
  {
   "cell_type": "code",
   "execution_count": 94,
   "id": "7e827b79",
   "metadata": {},
   "outputs": [],
   "source": [
    "train_df = pd.read_csv(TRAIN_DATASET_PATH)\n",
    "test_df = pd.read_csv(TEST_DATASET_PATH)"
   ]
  },
  {
   "cell_type": "code",
   "execution_count": 95,
   "id": "7aecf501",
   "metadata": {},
   "outputs": [],
   "source": [
    "target_name = 'Price'\n",
    "X = train_df.drop(columns=target_name)\n",
    "y = train_df[target_name]"
   ]
  },
  {
   "cell_type": "code",
   "execution_count": 96,
   "id": "19028457",
   "metadata": {},
   "outputs": [
    {
     "data": {
      "text/html": [
       "<div>\n",
       "<style scoped>\n",
       "    .dataframe tbody tr th:only-of-type {\n",
       "        vertical-align: middle;\n",
       "    }\n",
       "\n",
       "    .dataframe tbody tr th {\n",
       "        vertical-align: top;\n",
       "    }\n",
       "\n",
       "    .dataframe thead th {\n",
       "        text-align: right;\n",
       "    }\n",
       "</style>\n",
       "<table border=\"1\" class=\"dataframe\">\n",
       "  <thead>\n",
       "    <tr style=\"text-align: right;\">\n",
       "      <th></th>\n",
       "      <th>Id</th>\n",
       "      <th>DistrictId</th>\n",
       "      <th>Rooms</th>\n",
       "      <th>Square</th>\n",
       "      <th>LifeSquare</th>\n",
       "      <th>KitchenSquare</th>\n",
       "      <th>Floor</th>\n",
       "      <th>HouseFloor</th>\n",
       "      <th>HouseYear</th>\n",
       "      <th>Ecology_1</th>\n",
       "      <th>Ecology_2</th>\n",
       "      <th>Ecology_3</th>\n",
       "      <th>Social_1</th>\n",
       "      <th>Social_2</th>\n",
       "      <th>Social_3</th>\n",
       "      <th>Healthcare_1</th>\n",
       "      <th>Helthcare_2</th>\n",
       "      <th>Shops_1</th>\n",
       "      <th>Shops_2</th>\n",
       "    </tr>\n",
       "  </thead>\n",
       "  <tbody>\n",
       "    <tr>\n",
       "      <th>9239</th>\n",
       "      <td>11585</td>\n",
       "      <td>23</td>\n",
       "      <td>1.0</td>\n",
       "      <td>43.380798</td>\n",
       "      <td>NaN</td>\n",
       "      <td>1.0</td>\n",
       "      <td>18</td>\n",
       "      <td>25.0</td>\n",
       "      <td>1977</td>\n",
       "      <td>0.075779</td>\n",
       "      <td>B</td>\n",
       "      <td>B</td>\n",
       "      <td>6</td>\n",
       "      <td>1437</td>\n",
       "      <td>3</td>\n",
       "      <td>NaN</td>\n",
       "      <td>0</td>\n",
       "      <td>2</td>\n",
       "      <td>B</td>\n",
       "    </tr>\n",
       "    <tr>\n",
       "      <th>6930</th>\n",
       "      <td>2917</td>\n",
       "      <td>30</td>\n",
       "      <td>3.0</td>\n",
       "      <td>83.596365</td>\n",
       "      <td>NaN</td>\n",
       "      <td>1.0</td>\n",
       "      <td>3</td>\n",
       "      <td>16.0</td>\n",
       "      <td>1977</td>\n",
       "      <td>0.000078</td>\n",
       "      <td>B</td>\n",
       "      <td>B</td>\n",
       "      <td>22</td>\n",
       "      <td>6398</td>\n",
       "      <td>141</td>\n",
       "      <td>1046.0</td>\n",
       "      <td>3</td>\n",
       "      <td>23</td>\n",
       "      <td>B</td>\n",
       "    </tr>\n",
       "    <tr>\n",
       "      <th>8136</th>\n",
       "      <td>9635</td>\n",
       "      <td>47</td>\n",
       "      <td>2.0</td>\n",
       "      <td>53.610583</td>\n",
       "      <td>31.289235</td>\n",
       "      <td>8.0</td>\n",
       "      <td>14</td>\n",
       "      <td>12.0</td>\n",
       "      <td>1979</td>\n",
       "      <td>0.298205</td>\n",
       "      <td>B</td>\n",
       "      <td>B</td>\n",
       "      <td>16</td>\n",
       "      <td>4048</td>\n",
       "      <td>3</td>\n",
       "      <td>NaN</td>\n",
       "      <td>1</td>\n",
       "      <td>3</td>\n",
       "      <td>B</td>\n",
       "    </tr>\n",
       "    <tr>\n",
       "      <th>3424</th>\n",
       "      <td>8748</td>\n",
       "      <td>3</td>\n",
       "      <td>2.0</td>\n",
       "      <td>51.877576</td>\n",
       "      <td>30.075022</td>\n",
       "      <td>6.0</td>\n",
       "      <td>3</td>\n",
       "      <td>9.0</td>\n",
       "      <td>1974</td>\n",
       "      <td>0.265089</td>\n",
       "      <td>B</td>\n",
       "      <td>B</td>\n",
       "      <td>37</td>\n",
       "      <td>5288</td>\n",
       "      <td>0</td>\n",
       "      <td>1937.0</td>\n",
       "      <td>3</td>\n",
       "      <td>2</td>\n",
       "      <td>B</td>\n",
       "    </tr>\n",
       "    <tr>\n",
       "      <th>6518</th>\n",
       "      <td>5704</td>\n",
       "      <td>62</td>\n",
       "      <td>1.0</td>\n",
       "      <td>53.810968</td>\n",
       "      <td>NaN</td>\n",
       "      <td>0.0</td>\n",
       "      <td>4</td>\n",
       "      <td>0.0</td>\n",
       "      <td>1977</td>\n",
       "      <td>0.072158</td>\n",
       "      <td>B</td>\n",
       "      <td>B</td>\n",
       "      <td>2</td>\n",
       "      <td>629</td>\n",
       "      <td>1</td>\n",
       "      <td>NaN</td>\n",
       "      <td>0</td>\n",
       "      <td>0</td>\n",
       "      <td>A</td>\n",
       "    </tr>\n",
       "  </tbody>\n",
       "</table>\n",
       "</div>"
      ],
      "text/plain": [
       "         Id  DistrictId  Rooms     Square  LifeSquare  KitchenSquare  Floor  \\\n",
       "9239  11585          23    1.0  43.380798         NaN            1.0     18   \n",
       "6930   2917          30    3.0  83.596365         NaN            1.0      3   \n",
       "8136   9635          47    2.0  53.610583   31.289235            8.0     14   \n",
       "3424   8748           3    2.0  51.877576   30.075022            6.0      3   \n",
       "6518   5704          62    1.0  53.810968         NaN            0.0      4   \n",
       "\n",
       "      HouseFloor  HouseYear  Ecology_1 Ecology_2 Ecology_3  Social_1  \\\n",
       "9239        25.0       1977   0.075779         B         B         6   \n",
       "6930        16.0       1977   0.000078         B         B        22   \n",
       "8136        12.0       1979   0.298205         B         B        16   \n",
       "3424         9.0       1974   0.265089         B         B        37   \n",
       "6518         0.0       1977   0.072158         B         B         2   \n",
       "\n",
       "      Social_2  Social_3  Healthcare_1  Helthcare_2  Shops_1 Shops_2  \n",
       "9239      1437         3           NaN            0        2       B  \n",
       "6930      6398       141        1046.0            3       23       B  \n",
       "8136      4048         3           NaN            1        3       B  \n",
       "3424      5288         0        1937.0            3        2       B  \n",
       "6518       629         1           NaN            0        0       A  "
      ]
     },
     "execution_count": 96,
     "metadata": {},
     "output_type": "execute_result"
    }
   ],
   "source": [
    "X_train, X_valid, y_train, y_valid = train_test_split(X, y, test_size=0.33, shuffle=True, random_state=21)\n",
    "X_train.head()"
   ]
  },
  {
   "cell_type": "code",
   "execution_count": 97,
   "id": "c4b18846",
   "metadata": {},
   "outputs": [
    {
     "data": {
      "text/plain": [
       "((6700, 19), (3300, 19), (5000, 19))"
      ]
     },
     "execution_count": 97,
     "metadata": {},
     "output_type": "execute_result"
    }
   ],
   "source": [
    "preprocessor = DataPreProcessor()\n",
    "preprocessor.fit(X_train)\n",
    "\n",
    "X_train = preprocessor.transform(X_train, y_train)\n",
    "X_valid = preprocessor.transform(X_valid, y_valid)\n",
    "test_df = preprocessor.transform(test_df)\n",
    "\n",
    "X_train.shape, X_valid.shape, test_df.shape"
   ]
  },
  {
   "cell_type": "code",
   "execution_count": 98,
   "id": "7e068d18",
   "metadata": {},
   "outputs": [
    {
     "data": {
      "text/plain": [
       "(0, 0, 0)"
      ]
     },
     "execution_count": 98,
     "metadata": {},
     "output_type": "execute_result"
    }
   ],
   "source": [
    "X_train.isna().sum().sum(), X_valid.isna().sum().sum(), test_df.isna().sum().sum()"
   ]
  },
  {
   "cell_type": "code",
   "execution_count": 99,
   "id": "d3b023d8",
   "metadata": {},
   "outputs": [
    {
     "data": {
      "text/plain": [
       "((6700, 22), (3300, 22), (5000, 22))"
      ]
     },
     "execution_count": 99,
     "metadata": {},
     "output_type": "execute_result"
    }
   ],
   "source": [
    "features_gen = FeatureGenerator()\n",
    "features_gen.fit(X_train, y_train)\n",
    "\n",
    "X_train = features_gen.transform(X_train)\n",
    "X_valid = features_gen.transform(X_valid)\n",
    "test_df = features_gen.transform(test_df)\n",
    "\n",
    "X_train.shape, X_valid.shape, test_df.shape"
   ]
  },
  {
   "cell_type": "code",
   "execution_count": 100,
   "id": "47bb17a3",
   "metadata": {},
   "outputs": [
    {
     "data": {
      "text/plain": [
       "(0, 0, 0)"
      ]
     },
     "execution_count": 100,
     "metadata": {},
     "output_type": "execute_result"
    }
   ],
   "source": [
    "X_train.isna().sum().sum(), X_valid.isna().sum().sum(), test_df.isna().sum().sum()"
   ]
  },
  {
   "cell_type": "markdown",
   "id": "deb2a7da",
   "metadata": {},
   "source": [
    "## 5. Предсказание на тестовых данных. Выгрузка предсказанных значений"
   ]
  },
  {
   "cell_type": "code",
   "execution_count": 101,
   "id": "9b64e8b8",
   "metadata": {},
   "outputs": [
    {
     "name": "stdout",
     "output_type": "stream",
     "text": [
      "Train R2:\t0.959\n",
      "Test R2:\t0.73\n"
     ]
    },
    {
     "data": {
      "image/png": "[encoded data removed]",
      "text/plain": [
       "<Figure size 1296x720 with 2 Axes>"
      ]
     },
     "metadata": {
      "needs_background": "light"
     },
     "output_type": "display_data"
    }
   ],
   "source": [
    "target_name = 'Price'\n",
    "\n",
    "rf_model = RandomForestRegressor(random_state=21, criterion='mse')\n",
    "rf_model.fit(X_train, y_train)\n",
    "\n",
    "y_train_preds = rf_model.predict(X_train)\n",
    "y_valid_preds = rf_model.predict(X_valid)\n",
    "\n",
    "evaluate_preds(y_train, y_train_preds, y_valid, y_valid_preds)"
   ]
  },
  {
   "cell_type": "code",
   "execution_count": 102,
   "id": "fa255f9f",
   "metadata": {},
   "outputs": [
    {
     "name": "stdout",
     "output_type": "stream",
     "text": [
      "Train R2:\t0.963\n"
     ]
    },
    {
     "data": {
      "image/png": "[encoded data removed]",
      "text/plain": [
       "<Figure size 1296x720 with 1 Axes>"
      ]
     },
     "metadata": {
      "needs_background": "light"
     },
     "output_type": "display_data"
    }
   ],
   "source": [
    "# Предсказание на всех данных\n",
    "preprocessor = DataPreProcessor()\n",
    "preprocessor.fit(X)\n",
    "X = preprocessor.transform(X, y)\n",
    "\n",
    "features_gen = FeatureGenerator()\n",
    "features_gen.fit(X, y)\n",
    "X= features_gen.transform(X)\n",
    "\n",
    "rf_model.fit(X, y)\n",
    "y_preds = rf_model.predict(X)\n",
    "print(\"Train R2:\\t\" + str(round(r2(y, y_preds), 3)))\n",
    "\n",
    "plt.figure(figsize=(18,10))\n",
    "\n",
    "plt.subplot(121)\n",
    "sns.scatterplot(x=y_preds, y=y)\n",
    "plt.xlabel('Predicted values')\n",
    "plt.ylabel('True values')\n",
    "plt.title('Train sample prediction')\n",
    "\n",
    "plt.show()"
   ]
  },
  {
   "cell_type": "markdown",
   "id": "470f7f10",
   "metadata": {},
   "source": [
    "### Предсказание на тестовых данных"
   ]
  },
  {
   "cell_type": "code",
   "execution_count": 103,
   "id": "e841626e",
   "metadata": {},
   "outputs": [
    {
     "data": {
      "text/html": [
       "<div>\n",
       "<style scoped>\n",
       "    .dataframe tbody tr th:only-of-type {\n",
       "        vertical-align: middle;\n",
       "    }\n",
       "\n",
       "    .dataframe tbody tr th {\n",
       "        vertical-align: top;\n",
       "    }\n",
       "\n",
       "    .dataframe thead th {\n",
       "        text-align: right;\n",
       "    }\n",
       "</style>\n",
       "<table border=\"1\" class=\"dataframe\">\n",
       "  <thead>\n",
       "    <tr style=\"text-align: right;\">\n",
       "      <th></th>\n",
       "      <th>Id</th>\n",
       "      <th>Rooms</th>\n",
       "      <th>Square</th>\n",
       "      <th>KitchenSquare</th>\n",
       "      <th>Floor</th>\n",
       "      <th>HouseFloor</th>\n",
       "      <th>HouseYear</th>\n",
       "      <th>Ecology_1</th>\n",
       "      <th>Social_1</th>\n",
       "      <th>Social_2</th>\n",
       "      <th>...</th>\n",
       "      <th>Shops_1</th>\n",
       "      <th>Healthcare_1</th>\n",
       "      <th>DistrictId</th>\n",
       "      <th>LifeSquare</th>\n",
       "      <th>Ecology_2_A</th>\n",
       "      <th>Ecology_2_B</th>\n",
       "      <th>Ecology_3_A</th>\n",
       "      <th>Ecology_3_B</th>\n",
       "      <th>Shops_2_A</th>\n",
       "      <th>Shops_2_B</th>\n",
       "    </tr>\n",
       "  </thead>\n",
       "  <tbody>\n",
       "    <tr>\n",
       "      <th>0</th>\n",
       "      <td>4567</td>\n",
       "      <td>1.0</td>\n",
       "      <td>36.847630</td>\n",
       "      <td>5.0</td>\n",
       "      <td>5</td>\n",
       "      <td>9.0</td>\n",
       "      <td>1970</td>\n",
       "      <td>0.036122</td>\n",
       "      <td>24</td>\n",
       "      <td>4378</td>\n",
       "      <td>...</td>\n",
       "      <td>1</td>\n",
       "      <td>1036.00</td>\n",
       "      <td>44</td>\n",
       "      <td>19.094182</td>\n",
       "      <td>0</td>\n",
       "      <td>1</td>\n",
       "      <td>0</td>\n",
       "      <td>1</td>\n",
       "      <td>0</td>\n",
       "      <td>1</td>\n",
       "    </tr>\n",
       "    <tr>\n",
       "      <th>1</th>\n",
       "      <td>5925</td>\n",
       "      <td>1.0</td>\n",
       "      <td>42.493907</td>\n",
       "      <td>10.0</td>\n",
       "      <td>7</td>\n",
       "      <td>17.0</td>\n",
       "      <td>2017</td>\n",
       "      <td>0.072158</td>\n",
       "      <td>2</td>\n",
       "      <td>629</td>\n",
       "      <td>...</td>\n",
       "      <td>0</td>\n",
       "      <td>396.31</td>\n",
       "      <td>62</td>\n",
       "      <td>32.493907</td>\n",
       "      <td>0</td>\n",
       "      <td>1</td>\n",
       "      <td>0</td>\n",
       "      <td>1</td>\n",
       "      <td>1</td>\n",
       "      <td>0</td>\n",
       "    </tr>\n",
       "    <tr>\n",
       "      <th>2</th>\n",
       "      <td>960</td>\n",
       "      <td>2.0</td>\n",
       "      <td>59.463678</td>\n",
       "      <td>9.0</td>\n",
       "      <td>19</td>\n",
       "      <td>19.0</td>\n",
       "      <td>1977</td>\n",
       "      <td>0.211401</td>\n",
       "      <td>9</td>\n",
       "      <td>1892</td>\n",
       "      <td>...</td>\n",
       "      <td>1</td>\n",
       "      <td>648.82</td>\n",
       "      <td>27</td>\n",
       "      <td>50.463678</td>\n",
       "      <td>0</td>\n",
       "      <td>1</td>\n",
       "      <td>0</td>\n",
       "      <td>1</td>\n",
       "      <td>0</td>\n",
       "      <td>1</td>\n",
       "    </tr>\n",
       "    <tr>\n",
       "      <th>3</th>\n",
       "      <td>3848</td>\n",
       "      <td>3.0</td>\n",
       "      <td>49.646030</td>\n",
       "      <td>6.0</td>\n",
       "      <td>2</td>\n",
       "      <td>2.0</td>\n",
       "      <td>1965</td>\n",
       "      <td>0.014073</td>\n",
       "      <td>2</td>\n",
       "      <td>475</td>\n",
       "      <td>...</td>\n",
       "      <td>0</td>\n",
       "      <td>208.31</td>\n",
       "      <td>23</td>\n",
       "      <td>33.893825</td>\n",
       "      <td>0</td>\n",
       "      <td>1</td>\n",
       "      <td>0</td>\n",
       "      <td>1</td>\n",
       "      <td>0</td>\n",
       "      <td>1</td>\n",
       "    </tr>\n",
       "    <tr>\n",
       "      <th>4</th>\n",
       "      <td>746</td>\n",
       "      <td>1.0</td>\n",
       "      <td>53.837056</td>\n",
       "      <td>2.0</td>\n",
       "      <td>8</td>\n",
       "      <td>17.0</td>\n",
       "      <td>1977</td>\n",
       "      <td>0.309479</td>\n",
       "      <td>35</td>\n",
       "      <td>7715</td>\n",
       "      <td>...</td>\n",
       "      <td>6</td>\n",
       "      <td>990.00</td>\n",
       "      <td>74</td>\n",
       "      <td>51.837056</td>\n",
       "      <td>0</td>\n",
       "      <td>1</td>\n",
       "      <td>0</td>\n",
       "      <td>1</td>\n",
       "      <td>0</td>\n",
       "      <td>1</td>\n",
       "    </tr>\n",
       "    <tr>\n",
       "      <th>...</th>\n",
       "      <td>...</td>\n",
       "      <td>...</td>\n",
       "      <td>...</td>\n",
       "      <td>...</td>\n",
       "      <td>...</td>\n",
       "      <td>...</td>\n",
       "      <td>...</td>\n",
       "      <td>...</td>\n",
       "      <td>...</td>\n",
       "      <td>...</td>\n",
       "      <td>...</td>\n",
       "      <td>...</td>\n",
       "      <td>...</td>\n",
       "      <td>...</td>\n",
       "      <td>...</td>\n",
       "      <td>...</td>\n",
       "      <td>...</td>\n",
       "      <td>...</td>\n",
       "      <td>...</td>\n",
       "      <td>...</td>\n",
       "      <td>...</td>\n",
       "    </tr>\n",
       "    <tr>\n",
       "      <th>4995</th>\n",
       "      <td>10379</td>\n",
       "      <td>2.0</td>\n",
       "      <td>43.177521</td>\n",
       "      <td>5.0</td>\n",
       "      <td>3</td>\n",
       "      <td>5.0</td>\n",
       "      <td>1962</td>\n",
       "      <td>0.069660</td>\n",
       "      <td>31</td>\n",
       "      <td>6119</td>\n",
       "      <td>...</td>\n",
       "      <td>2</td>\n",
       "      <td>712.45</td>\n",
       "      <td>29</td>\n",
       "      <td>30.339945</td>\n",
       "      <td>0</td>\n",
       "      <td>1</td>\n",
       "      <td>0</td>\n",
       "      <td>1</td>\n",
       "      <td>0</td>\n",
       "      <td>1</td>\n",
       "    </tr>\n",
       "    <tr>\n",
       "      <th>4996</th>\n",
       "      <td>16138</td>\n",
       "      <td>3.0</td>\n",
       "      <td>93.698122</td>\n",
       "      <td>10.0</td>\n",
       "      <td>21</td>\n",
       "      <td>27.0</td>\n",
       "      <td>2018</td>\n",
       "      <td>0.060753</td>\n",
       "      <td>15</td>\n",
       "      <td>2787</td>\n",
       "      <td>...</td>\n",
       "      <td>7</td>\n",
       "      <td>520.00</td>\n",
       "      <td>38</td>\n",
       "      <td>83.698122</td>\n",
       "      <td>0</td>\n",
       "      <td>1</td>\n",
       "      <td>0</td>\n",
       "      <td>1</td>\n",
       "      <td>0</td>\n",
       "      <td>1</td>\n",
       "    </tr>\n",
       "    <tr>\n",
       "      <th>4997</th>\n",
       "      <td>3912</td>\n",
       "      <td>1.0</td>\n",
       "      <td>33.656723</td>\n",
       "      <td>5.0</td>\n",
       "      <td>2</td>\n",
       "      <td>5.0</td>\n",
       "      <td>1966</td>\n",
       "      <td>0.038693</td>\n",
       "      <td>28</td>\n",
       "      <td>6533</td>\n",
       "      <td>...</td>\n",
       "      <td>5</td>\n",
       "      <td>1015.00</td>\n",
       "      <td>101</td>\n",
       "      <td>19.003259</td>\n",
       "      <td>0</td>\n",
       "      <td>1</td>\n",
       "      <td>0</td>\n",
       "      <td>1</td>\n",
       "      <td>0</td>\n",
       "      <td>1</td>\n",
       "    </tr>\n",
       "    <tr>\n",
       "      <th>4998</th>\n",
       "      <td>5722</td>\n",
       "      <td>1.0</td>\n",
       "      <td>38.635155</td>\n",
       "      <td>9.0</td>\n",
       "      <td>8</td>\n",
       "      <td>14.0</td>\n",
       "      <td>1970</td>\n",
       "      <td>0.089040</td>\n",
       "      <td>33</td>\n",
       "      <td>7976</td>\n",
       "      <td>...</td>\n",
       "      <td>11</td>\n",
       "      <td>876.17</td>\n",
       "      <td>10</td>\n",
       "      <td>20.976257</td>\n",
       "      <td>0</td>\n",
       "      <td>1</td>\n",
       "      <td>0</td>\n",
       "      <td>1</td>\n",
       "      <td>0</td>\n",
       "      <td>1</td>\n",
       "    </tr>\n",
       "    <tr>\n",
       "      <th>4999</th>\n",
       "      <td>11004</td>\n",
       "      <td>2.0</td>\n",
       "      <td>67.122742</td>\n",
       "      <td>13.0</td>\n",
       "      <td>9</td>\n",
       "      <td>17.0</td>\n",
       "      <td>2009</td>\n",
       "      <td>0.194489</td>\n",
       "      <td>47</td>\n",
       "      <td>8004</td>\n",
       "      <td>...</td>\n",
       "      <td>5</td>\n",
       "      <td>125.00</td>\n",
       "      <td>21</td>\n",
       "      <td>33.944344</td>\n",
       "      <td>0</td>\n",
       "      <td>1</td>\n",
       "      <td>0</td>\n",
       "      <td>1</td>\n",
       "      <td>0</td>\n",
       "      <td>1</td>\n",
       "    </tr>\n",
       "  </tbody>\n",
       "</table>\n",
       "<p>5000 rows × 22 columns</p>\n",
       "</div>"
      ],
      "text/plain": [
       "         Id  Rooms     Square  KitchenSquare  Floor  HouseFloor  HouseYear  \\\n",
       "0      4567    1.0  36.847630            5.0      5         9.0       1970   \n",
       "1      5925    1.0  42.493907           10.0      7        17.0       2017   \n",
       "2       960    2.0  59.463678            9.0     19        19.0       1977   \n",
       "3      3848    3.0  49.646030            6.0      2         2.0       1965   \n",
       "4       746    1.0  53.837056            2.0      8        17.0       1977   \n",
       "...     ...    ...        ...            ...    ...         ...        ...   \n",
       "4995  10379    2.0  43.177521            5.0      3         5.0       1962   \n",
       "4996  16138    3.0  93.698122           10.0     21        27.0       2018   \n",
       "4997   3912    1.0  33.656723            5.0      2         5.0       1966   \n",
       "4998   5722    1.0  38.635155            9.0      8        14.0       1970   \n",
       "4999  11004    2.0  67.122742           13.0      9        17.0       2009   \n",
       "\n",
       "      Ecology_1  Social_1  Social_2  ...  Shops_1  Healthcare_1  DistrictId  \\\n",
       "0      0.036122        24      4378  ...        1       1036.00          44   \n",
       "1      0.072158         2       629  ...        0        396.31          62   \n",
       "2      0.211401         9      1892  ...        1        648.82          27   \n",
       "3      0.014073         2       475  ...        0        208.31          23   \n",
       "4      0.309479        35      7715  ...        6        990.00          74   \n",
       "...         ...       ...       ...  ...      ...           ...         ...   \n",
       "4995   0.069660        31      6119  ...        2        712.45          29   \n",
       "4996   0.060753        15      2787  ...        7        520.00          38   \n",
       "4997   0.038693        28      6533  ...        5       1015.00         101   \n",
       "4998   0.089040        33      7976  ...       11        876.17          10   \n",
       "4999   0.194489        47      8004  ...        5        125.00          21   \n",
       "\n",
       "      LifeSquare  Ecology_2_A  Ecology_2_B  Ecology_3_A  Ecology_3_B  \\\n",
       "0      19.094182            0            1            0            1   \n",
       "1      32.493907            0            1            0            1   \n",
       "2      50.463678            0            1            0            1   \n",
       "3      33.893825            0            1            0            1   \n",
       "4      51.837056            0            1            0            1   \n",
       "...          ...          ...          ...          ...          ...   \n",
       "4995   30.339945            0            1            0            1   \n",
       "4996   83.698122            0            1            0            1   \n",
       "4997   19.003259            0            1            0            1   \n",
       "4998   20.976257            0            1            0            1   \n",
       "4999   33.944344            0            1            0            1   \n",
       "\n",
       "      Shops_2_A  Shops_2_B  \n",
       "0             0          1  \n",
       "1             1          0  \n",
       "2             0          1  \n",
       "3             0          1  \n",
       "4             0          1  \n",
       "...         ...        ...  \n",
       "4995          0          1  \n",
       "4996          0          1  \n",
       "4997          0          1  \n",
       "4998          0          1  \n",
       "4999          0          1  \n",
       "\n",
       "[5000 rows x 22 columns]"
      ]
     },
     "execution_count": 103,
     "metadata": {},
     "output_type": "execute_result"
    }
   ],
   "source": [
    "test_df"
   ]
  },
  {
   "cell_type": "code",
   "execution_count": 104,
   "id": "a5e70bab",
   "metadata": {},
   "outputs": [
    {
     "data": {
      "text/plain": [
       "array([158209.17152308, 121315.36977594, 152961.65515748, ...,\n",
       "       147117.44410718, 192184.73789972, 244072.9010722 ])"
      ]
     },
     "execution_count": 104,
     "metadata": {},
     "output_type": "execute_result"
    }
   ],
   "source": [
    "y_test = rf_model.predict(test_df)\n",
    "y_test"
   ]
  },
  {
   "cell_type": "code",
   "execution_count": 105,
   "id": "37f34906",
   "metadata": {},
   "outputs": [],
   "source": [
    "submit = pd.read_csv('sample_submission.csv')"
   ]
  },
  {
   "cell_type": "code",
   "execution_count": 106,
   "id": "df06e8fc",
   "metadata": {},
   "outputs": [
    {
     "data": {
      "text/html": [
       "<div>\n",
       "<style scoped>\n",
       "    .dataframe tbody tr th:only-of-type {\n",
       "        vertical-align: middle;\n",
       "    }\n",
       "\n",
       "    .dataframe tbody tr th {\n",
       "        vertical-align: top;\n",
       "    }\n",
       "\n",
       "    .dataframe thead th {\n",
       "        text-align: right;\n",
       "    }\n",
       "</style>\n",
       "<table border=\"1\" class=\"dataframe\">\n",
       "  <thead>\n",
       "    <tr style=\"text-align: right;\">\n",
       "      <th></th>\n",
       "      <th>Id</th>\n",
       "      <th>Price</th>\n",
       "    </tr>\n",
       "  </thead>\n",
       "  <tbody>\n",
       "    <tr>\n",
       "      <th>0</th>\n",
       "      <td>4567</td>\n",
       "      <td>158209.171523</td>\n",
       "    </tr>\n",
       "    <tr>\n",
       "      <th>1</th>\n",
       "      <td>5925</td>\n",
       "      <td>121315.369776</td>\n",
       "    </tr>\n",
       "    <tr>\n",
       "      <th>2</th>\n",
       "      <td>960</td>\n",
       "      <td>152961.655157</td>\n",
       "    </tr>\n",
       "    <tr>\n",
       "      <th>3</th>\n",
       "      <td>3848</td>\n",
       "      <td>134371.122752</td>\n",
       "    </tr>\n",
       "    <tr>\n",
       "      <th>4</th>\n",
       "      <td>746</td>\n",
       "      <td>214881.545323</td>\n",
       "    </tr>\n",
       "    <tr>\n",
       "      <th>...</th>\n",
       "      <td>...</td>\n",
       "      <td>...</td>\n",
       "    </tr>\n",
       "    <tr>\n",
       "      <th>4995</th>\n",
       "      <td>10379</td>\n",
       "      <td>171649.820967</td>\n",
       "    </tr>\n",
       "    <tr>\n",
       "      <th>4996</th>\n",
       "      <td>16138</td>\n",
       "      <td>359311.003907</td>\n",
       "    </tr>\n",
       "    <tr>\n",
       "      <th>4997</th>\n",
       "      <td>3912</td>\n",
       "      <td>147117.444107</td>\n",
       "    </tr>\n",
       "    <tr>\n",
       "      <th>4998</th>\n",
       "      <td>5722</td>\n",
       "      <td>192184.737900</td>\n",
       "    </tr>\n",
       "    <tr>\n",
       "      <th>4999</th>\n",
       "      <td>11004</td>\n",
       "      <td>244072.901072</td>\n",
       "    </tr>\n",
       "  </tbody>\n",
       "</table>\n",
       "<p>5000 rows × 2 columns</p>\n",
       "</div>"
      ],
      "text/plain": [
       "         Id          Price\n",
       "0      4567  158209.171523\n",
       "1      5925  121315.369776\n",
       "2       960  152961.655157\n",
       "3      3848  134371.122752\n",
       "4       746  214881.545323\n",
       "...     ...            ...\n",
       "4995  10379  171649.820967\n",
       "4996  16138  359311.003907\n",
       "4997   3912  147117.444107\n",
       "4998   5722  192184.737900\n",
       "4999  11004  244072.901072\n",
       "\n",
       "[5000 rows x 2 columns]"
      ]
     },
     "execution_count": 106,
     "metadata": {},
     "output_type": "execute_result"
    }
   ],
   "source": [
    "submit['Price'] = y_test\n",
    "submit"
   ]
  },
  {
   "cell_type": "code",
   "execution_count": 107,
   "id": "45fd08cd",
   "metadata": {},
   "outputs": [],
   "source": [
    "submit.to_csv('rf_submit.csv', index=False)"
   ]
  },
  {
   "cell_type": "markdown",
   "id": "fcda5873",
   "metadata": {},
   "source": [
    "### Результат на Kaggle"
   ]
  },
  {
   "cell_type": "markdown",
   "id": "60a569b1",
   "metadata": {},
   "source": [
    "Olga Sautina"
   ]
  },
  {
   "cell_type": "markdown",
   "id": "ac316753",
   "metadata": {},
   "source": [
    "0.73260"
   ]
  },
  {
   "cell_type": "code",
   "execution_count": null,
   "id": "ed1d37a3",
   "metadata": {},
   "outputs": [],
   "source": []
  },
  {
   "cell_type": "code",
   "execution_count": null,
   "id": "3ab6f382",
   "metadata": {},
   "outputs": [],
   "source": []
  }
 ],
 "metadata": {
  "kernelspec": {
   "display_name": "Python 3 (ipykernel)",
   "language": "python",
   "name": "python3"
  },
  "language_info": {
   "codemirror_mode": {
    "name": "ipython",
    "version": 3
   },
   "file_extension": ".py",
   "mimetype": "text/x-python",
   "name": "python",
   "nbconvert_exporter": "python",
   "pygments_lexer": "ipython3",
   "version": "3.9.7"
  }
 },
 "nbformat": 4,
 "nbformat_minor": 5
}
